{
 "cells": [
  {
   "cell_type": "code",
   "execution_count": 8,
   "metadata": {},
   "outputs": [
    {
     "name": "stdout",
     "output_type": "stream",
     "text": [
      "Number of rows in the DataFrame: 52\n"
     ]
    },
    {
     "data": {
      "text/html": [
       "<div>\n",
       "<style scoped>\n",
       "    .dataframe tbody tr th:only-of-type {\n",
       "        vertical-align: middle;\n",
       "    }\n",
       "\n",
       "    .dataframe tbody tr th {\n",
       "        vertical-align: top;\n",
       "    }\n",
       "\n",
       "    .dataframe thead th {\n",
       "        text-align: right;\n",
       "    }\n",
       "</style>\n",
       "<table border=\"1\" class=\"dataframe\">\n",
       "  <thead>\n",
       "    <tr style=\"text-align: right;\">\n",
       "      <th></th>\n",
       "      <th>State Code</th>\n",
       "      <th>State Name</th>\n",
       "      <th>State Abbreviation</th>\n",
       "      <th>Population</th>\n",
       "      <th>Median Age</th>\n",
       "      <th>Household Income</th>\n",
       "      <th>Per Capita Income</th>\n",
       "      <th>Poverty Count</th>\n",
       "      <th>Poverty Rate</th>\n",
       "      <th>Average Value of Owner-Occupied Home</th>\n",
       "    </tr>\n",
       "  </thead>\n",
       "  <tbody>\n",
       "    <tr>\n",
       "      <th>0</th>\n",
       "      <td>42</td>\n",
       "      <td>Pennsylvania</td>\n",
       "      <td>PA</td>\n",
       "      <td>12794885.0</td>\n",
       "      <td>40.9</td>\n",
       "      <td>63627.0</td>\n",
       "      <td>35518.0</td>\n",
       "      <td>1480430.0</td>\n",
       "      <td>11.570483</td>\n",
       "      <td>187500.0</td>\n",
       "    </tr>\n",
       "    <tr>\n",
       "      <th>1</th>\n",
       "      <td>06</td>\n",
       "      <td>California</td>\n",
       "      <td>CA</td>\n",
       "      <td>39346023.0</td>\n",
       "      <td>36.7</td>\n",
       "      <td>78672.0</td>\n",
       "      <td>38576.0</td>\n",
       "      <td>4853434.0</td>\n",
       "      <td>12.335259</td>\n",
       "      <td>538500.0</td>\n",
       "    </tr>\n",
       "    <tr>\n",
       "      <th>2</th>\n",
       "      <td>54</td>\n",
       "      <td>West Virginia</td>\n",
       "      <td>WV</td>\n",
       "      <td>1807426.0</td>\n",
       "      <td>42.7</td>\n",
       "      <td>48037.0</td>\n",
       "      <td>27346.0</td>\n",
       "      <td>300152.0</td>\n",
       "      <td>16.606600</td>\n",
       "      <td>123200.0</td>\n",
       "    </tr>\n",
       "    <tr>\n",
       "      <th>3</th>\n",
       "      <td>49</td>\n",
       "      <td>Utah</td>\n",
       "      <td>UT</td>\n",
       "      <td>3151239.0</td>\n",
       "      <td>31.1</td>\n",
       "      <td>74197.0</td>\n",
       "      <td>30986.0</td>\n",
       "      <td>283360.0</td>\n",
       "      <td>8.992019</td>\n",
       "      <td>305400.0</td>\n",
       "    </tr>\n",
       "    <tr>\n",
       "      <th>4</th>\n",
       "      <td>36</td>\n",
       "      <td>New York</td>\n",
       "      <td>NY</td>\n",
       "      <td>19514849.0</td>\n",
       "      <td>39.0</td>\n",
       "      <td>71117.0</td>\n",
       "      <td>40898.0</td>\n",
       "      <td>2581048.0</td>\n",
       "      <td>13.226072</td>\n",
       "      <td>325000.0</td>\n",
       "    </tr>\n",
       "    <tr>\n",
       "      <th>5</th>\n",
       "      <td>11</td>\n",
       "      <td>District of Columbia</td>\n",
       "      <td>DC</td>\n",
       "      <td>701974.0</td>\n",
       "      <td>34.1</td>\n",
       "      <td>90842.0</td>\n",
       "      <td>58659.0</td>\n",
       "      <td>103391.0</td>\n",
       "      <td>14.728608</td>\n",
       "      <td>618100.0</td>\n",
       "    </tr>\n",
       "    <tr>\n",
       "      <th>6</th>\n",
       "      <td>02</td>\n",
       "      <td>Alaska</td>\n",
       "      <td>AK</td>\n",
       "      <td>736990.0</td>\n",
       "      <td>34.6</td>\n",
       "      <td>77790.0</td>\n",
       "      <td>37094.0</td>\n",
       "      <td>74369.0</td>\n",
       "      <td>10.090910</td>\n",
       "      <td>275600.0</td>\n",
       "    </tr>\n",
       "    <tr>\n",
       "      <th>7</th>\n",
       "      <td>12</td>\n",
       "      <td>Florida</td>\n",
       "      <td>FL</td>\n",
       "      <td>21216924.0</td>\n",
       "      <td>42.2</td>\n",
       "      <td>57703.0</td>\n",
       "      <td>32848.0</td>\n",
       "      <td>2772939.0</td>\n",
       "      <td>13.069468</td>\n",
       "      <td>232000.0</td>\n",
       "    </tr>\n",
       "    <tr>\n",
       "      <th>8</th>\n",
       "      <td>45</td>\n",
       "      <td>South Carolina</td>\n",
       "      <td>SC</td>\n",
       "      <td>5091517.0</td>\n",
       "      <td>39.7</td>\n",
       "      <td>54864.0</td>\n",
       "      <td>30727.0</td>\n",
       "      <td>726470.0</td>\n",
       "      <td>14.268243</td>\n",
       "      <td>170100.0</td>\n",
       "    </tr>\n",
       "    <tr>\n",
       "      <th>9</th>\n",
       "      <td>38</td>\n",
       "      <td>North Dakota</td>\n",
       "      <td>ND</td>\n",
       "      <td>760394.0</td>\n",
       "      <td>35.2</td>\n",
       "      <td>65315.0</td>\n",
       "      <td>36289.0</td>\n",
       "      <td>77491.0</td>\n",
       "      <td>10.190901</td>\n",
       "      <td>199900.0</td>\n",
       "    </tr>\n",
       "    <tr>\n",
       "      <th>10</th>\n",
       "      <td>23</td>\n",
       "      <td>Maine</td>\n",
       "      <td>ME</td>\n",
       "      <td>1340825.0</td>\n",
       "      <td>44.8</td>\n",
       "      <td>59489.0</td>\n",
       "      <td>33774.0</td>\n",
       "      <td>144384.0</td>\n",
       "      <td>10.768296</td>\n",
       "      <td>198000.0</td>\n",
       "    </tr>\n",
       "    <tr>\n",
       "      <th>11</th>\n",
       "      <td>13</td>\n",
       "      <td>Georgia</td>\n",
       "      <td>GA</td>\n",
       "      <td>10516579.0</td>\n",
       "      <td>36.9</td>\n",
       "      <td>61224.0</td>\n",
       "      <td>32427.0</td>\n",
       "      <td>1461572.0</td>\n",
       "      <td>13.897789</td>\n",
       "      <td>190200.0</td>\n",
       "    </tr>\n",
       "    <tr>\n",
       "      <th>12</th>\n",
       "      <td>01</td>\n",
       "      <td>Alabama</td>\n",
       "      <td>AL</td>\n",
       "      <td>4893186.0</td>\n",
       "      <td>39.2</td>\n",
       "      <td>52035.0</td>\n",
       "      <td>28934.0</td>\n",
       "      <td>762642.0</td>\n",
       "      <td>15.585796</td>\n",
       "      <td>149600.0</td>\n",
       "    </tr>\n",
       "    <tr>\n",
       "      <th>13</th>\n",
       "      <td>33</td>\n",
       "      <td>New Hampshire</td>\n",
       "      <td>NH</td>\n",
       "      <td>1355244.0</td>\n",
       "      <td>43.0</td>\n",
       "      <td>77923.0</td>\n",
       "      <td>41234.0</td>\n",
       "      <td>97418.0</td>\n",
       "      <td>7.188226</td>\n",
       "      <td>272300.0</td>\n",
       "    </tr>\n",
       "    <tr>\n",
       "      <th>14</th>\n",
       "      <td>41</td>\n",
       "      <td>Oregon</td>\n",
       "      <td>OR</td>\n",
       "      <td>4176346.0</td>\n",
       "      <td>39.5</td>\n",
       "      <td>65667.0</td>\n",
       "      <td>35393.0</td>\n",
       "      <td>506558.0</td>\n",
       "      <td>12.129215</td>\n",
       "      <td>336700.0</td>\n",
       "    </tr>\n",
       "    <tr>\n",
       "      <th>15</th>\n",
       "      <td>56</td>\n",
       "      <td>Wyoming</td>\n",
       "      <td>WY</td>\n",
       "      <td>581348.0</td>\n",
       "      <td>38.0</td>\n",
       "      <td>65304.0</td>\n",
       "      <td>34415.0</td>\n",
       "      <td>61006.0</td>\n",
       "      <td>10.493887</td>\n",
       "      <td>228000.0</td>\n",
       "    </tr>\n",
       "    <tr>\n",
       "      <th>16</th>\n",
       "      <td>04</td>\n",
       "      <td>Arizona</td>\n",
       "      <td>AZ</td>\n",
       "      <td>7174064.0</td>\n",
       "      <td>37.9</td>\n",
       "      <td>61529.0</td>\n",
       "      <td>32340.0</td>\n",
       "      <td>990528.0</td>\n",
       "      <td>13.807069</td>\n",
       "      <td>242000.0</td>\n",
       "    </tr>\n",
       "    <tr>\n",
       "      <th>17</th>\n",
       "      <td>22</td>\n",
       "      <td>Louisiana</td>\n",
       "      <td>LA</td>\n",
       "      <td>4664616.0</td>\n",
       "      <td>37.2</td>\n",
       "      <td>50800.0</td>\n",
       "      <td>29522.0</td>\n",
       "      <td>845230.0</td>\n",
       "      <td>18.120034</td>\n",
       "      <td>168100.0</td>\n",
       "    </tr>\n",
       "    <tr>\n",
       "      <th>18</th>\n",
       "      <td>18</td>\n",
       "      <td>Indiana</td>\n",
       "      <td>IN</td>\n",
       "      <td>6696893.0</td>\n",
       "      <td>37.8</td>\n",
       "      <td>58235.0</td>\n",
       "      <td>30693.0</td>\n",
       "      <td>838149.0</td>\n",
       "      <td>12.515490</td>\n",
       "      <td>148900.0</td>\n",
       "    </tr>\n",
       "    <tr>\n",
       "      <th>19</th>\n",
       "      <td>16</td>\n",
       "      <td>Idaho</td>\n",
       "      <td>ID</td>\n",
       "      <td>1754367.0</td>\n",
       "      <td>36.6</td>\n",
       "      <td>58915.0</td>\n",
       "      <td>29494.0</td>\n",
       "      <td>205676.0</td>\n",
       "      <td>11.723659</td>\n",
       "      <td>235600.0</td>\n",
       "    </tr>\n",
       "    <tr>\n",
       "      <th>20</th>\n",
       "      <td>09</td>\n",
       "      <td>Connecticut</td>\n",
       "      <td>CT</td>\n",
       "      <td>3570549.0</td>\n",
       "      <td>41.1</td>\n",
       "      <td>79855.0</td>\n",
       "      <td>45668.0</td>\n",
       "      <td>339156.0</td>\n",
       "      <td>9.498707</td>\n",
       "      <td>279700.0</td>\n",
       "    </tr>\n",
       "    <tr>\n",
       "      <th>21</th>\n",
       "      <td>15</td>\n",
       "      <td>Hawaii</td>\n",
       "      <td>HI</td>\n",
       "      <td>1420074.0</td>\n",
       "      <td>39.4</td>\n",
       "      <td>83173.0</td>\n",
       "      <td>37013.0</td>\n",
       "      <td>127971.0</td>\n",
       "      <td>9.011573</td>\n",
       "      <td>636400.0</td>\n",
       "    </tr>\n",
       "    <tr>\n",
       "      <th>22</th>\n",
       "      <td>17</td>\n",
       "      <td>Illinois</td>\n",
       "      <td>IL</td>\n",
       "      <td>12716164.0</td>\n",
       "      <td>38.3</td>\n",
       "      <td>68428.0</td>\n",
       "      <td>37306.0</td>\n",
       "      <td>1488670.0</td>\n",
       "      <td>11.706911</td>\n",
       "      <td>202100.0</td>\n",
       "    </tr>\n",
       "    <tr>\n",
       "      <th>23</th>\n",
       "      <td>25</td>\n",
       "      <td>Massachusetts</td>\n",
       "      <td>MA</td>\n",
       "      <td>6873003.0</td>\n",
       "      <td>39.6</td>\n",
       "      <td>84385.0</td>\n",
       "      <td>45555.0</td>\n",
       "      <td>653454.0</td>\n",
       "      <td>9.507547</td>\n",
       "      <td>398800.0</td>\n",
       "    </tr>\n",
       "    <tr>\n",
       "      <th>24</th>\n",
       "      <td>48</td>\n",
       "      <td>Texas</td>\n",
       "      <td>TX</td>\n",
       "      <td>28635442.0</td>\n",
       "      <td>34.8</td>\n",
       "      <td>63826.0</td>\n",
       "      <td>32177.0</td>\n",
       "      <td>3984260.0</td>\n",
       "      <td>13.913737</td>\n",
       "      <td>187200.0</td>\n",
       "    </tr>\n",
       "    <tr>\n",
       "      <th>25</th>\n",
       "      <td>30</td>\n",
       "      <td>Montana</td>\n",
       "      <td>MT</td>\n",
       "      <td>1061705.0</td>\n",
       "      <td>40.1</td>\n",
       "      <td>56539.0</td>\n",
       "      <td>32463.0</td>\n",
       "      <td>132476.0</td>\n",
       "      <td>12.477666</td>\n",
       "      <td>244900.0</td>\n",
       "    </tr>\n",
       "    <tr>\n",
       "      <th>26</th>\n",
       "      <td>31</td>\n",
       "      <td>Nebraska</td>\n",
       "      <td>NE</td>\n",
       "      <td>1923826.0</td>\n",
       "      <td>36.6</td>\n",
       "      <td>63015.0</td>\n",
       "      <td>33205.0</td>\n",
       "      <td>193820.0</td>\n",
       "      <td>10.074716</td>\n",
       "      <td>164000.0</td>\n",
       "    </tr>\n",
       "    <tr>\n",
       "      <th>27</th>\n",
       "      <td>39</td>\n",
       "      <td>Ohio</td>\n",
       "      <td>OH</td>\n",
       "      <td>11675275.0</td>\n",
       "      <td>39.5</td>\n",
       "      <td>58116.0</td>\n",
       "      <td>32465.0</td>\n",
       "      <td>1546011.0</td>\n",
       "      <td>13.241752</td>\n",
       "      <td>151400.0</td>\n",
       "    </tr>\n",
       "    <tr>\n",
       "      <th>28</th>\n",
       "      <td>08</td>\n",
       "      <td>Colorado</td>\n",
       "      <td>CO</td>\n",
       "      <td>5684926.0</td>\n",
       "      <td>36.9</td>\n",
       "      <td>75231.0</td>\n",
       "      <td>39545.0</td>\n",
       "      <td>544232.0</td>\n",
       "      <td>9.573247</td>\n",
       "      <td>369900.0</td>\n",
       "    </tr>\n",
       "    <tr>\n",
       "      <th>29</th>\n",
       "      <td>34</td>\n",
       "      <td>New Jersey</td>\n",
       "      <td>NJ</td>\n",
       "      <td>8885418.0</td>\n",
       "      <td>40.0</td>\n",
       "      <td>85245.0</td>\n",
       "      <td>44153.0</td>\n",
       "      <td>842704.0</td>\n",
       "      <td>9.484123</td>\n",
       "      <td>343500.0</td>\n",
       "    </tr>\n",
       "    <tr>\n",
       "      <th>30</th>\n",
       "      <td>24</td>\n",
       "      <td>Maryland</td>\n",
       "      <td>MD</td>\n",
       "      <td>6037624.0</td>\n",
       "      <td>38.8</td>\n",
       "      <td>87063.0</td>\n",
       "      <td>43352.0</td>\n",
       "      <td>531553.0</td>\n",
       "      <td>8.804010</td>\n",
       "      <td>325400.0</td>\n",
       "    </tr>\n",
       "    <tr>\n",
       "      <th>31</th>\n",
       "      <td>51</td>\n",
       "      <td>Virginia</td>\n",
       "      <td>VA</td>\n",
       "      <td>8509358.0</td>\n",
       "      <td>38.4</td>\n",
       "      <td>76398.0</td>\n",
       "      <td>41255.0</td>\n",
       "      <td>826708.0</td>\n",
       "      <td>9.715281</td>\n",
       "      <td>282800.0</td>\n",
       "    </tr>\n",
       "    <tr>\n",
       "      <th>32</th>\n",
       "      <td>50</td>\n",
       "      <td>Vermont</td>\n",
       "      <td>VT</td>\n",
       "      <td>624340.0</td>\n",
       "      <td>42.8</td>\n",
       "      <td>63477.0</td>\n",
       "      <td>35854.0</td>\n",
       "      <td>64700.0</td>\n",
       "      <td>10.362943</td>\n",
       "      <td>230900.0</td>\n",
       "    </tr>\n",
       "    <tr>\n",
       "      <th>33</th>\n",
       "      <td>37</td>\n",
       "      <td>North Carolina</td>\n",
       "      <td>NC</td>\n",
       "      <td>10386227.0</td>\n",
       "      <td>38.9</td>\n",
       "      <td>56642.0</td>\n",
       "      <td>31993.0</td>\n",
       "      <td>1411939.0</td>\n",
       "      <td>13.594340</td>\n",
       "      <td>182100.0</td>\n",
       "    </tr>\n",
       "    <tr>\n",
       "      <th>34</th>\n",
       "      <td>05</td>\n",
       "      <td>Arkansas</td>\n",
       "      <td>AR</td>\n",
       "      <td>3011873.0</td>\n",
       "      <td>38.3</td>\n",
       "      <td>49475.0</td>\n",
       "      <td>27724.0</td>\n",
       "      <td>470190.0</td>\n",
       "      <td>15.611216</td>\n",
       "      <td>133600.0</td>\n",
       "    </tr>\n",
       "    <tr>\n",
       "      <th>35</th>\n",
       "      <td>53</td>\n",
       "      <td>Washington</td>\n",
       "      <td>WA</td>\n",
       "      <td>7512465.0</td>\n",
       "      <td>37.8</td>\n",
       "      <td>77006.0</td>\n",
       "      <td>40837.0</td>\n",
       "      <td>751044.0</td>\n",
       "      <td>9.997304</td>\n",
       "      <td>366800.0</td>\n",
       "    </tr>\n",
       "    <tr>\n",
       "      <th>36</th>\n",
       "      <td>20</td>\n",
       "      <td>Kansas</td>\n",
       "      <td>KS</td>\n",
       "      <td>2912619.0</td>\n",
       "      <td>36.9</td>\n",
       "      <td>61091.0</td>\n",
       "      <td>32798.0</td>\n",
       "      <td>323644.0</td>\n",
       "      <td>11.111786</td>\n",
       "      <td>157600.0</td>\n",
       "    </tr>\n",
       "    <tr>\n",
       "      <th>37</th>\n",
       "      <td>40</td>\n",
       "      <td>Oklahoma</td>\n",
       "      <td>OK</td>\n",
       "      <td>3949342.0</td>\n",
       "      <td>36.7</td>\n",
       "      <td>53840.0</td>\n",
       "      <td>29873.0</td>\n",
       "      <td>585520.0</td>\n",
       "      <td>14.825761</td>\n",
       "      <td>142400.0</td>\n",
       "    </tr>\n",
       "    <tr>\n",
       "      <th>38</th>\n",
       "      <td>55</td>\n",
       "      <td>Wisconsin</td>\n",
       "      <td>WI</td>\n",
       "      <td>5806975.0</td>\n",
       "      <td>39.6</td>\n",
       "      <td>63293.0</td>\n",
       "      <td>34450.0</td>\n",
       "      <td>620947.0</td>\n",
       "      <td>10.693123</td>\n",
       "      <td>189200.0</td>\n",
       "    </tr>\n",
       "    <tr>\n",
       "      <th>39</th>\n",
       "      <td>28</td>\n",
       "      <td>Mississippi</td>\n",
       "      <td>MS</td>\n",
       "      <td>2981835.0</td>\n",
       "      <td>37.7</td>\n",
       "      <td>46511.0</td>\n",
       "      <td>25444.0</td>\n",
       "      <td>564439.0</td>\n",
       "      <td>18.929250</td>\n",
       "      <td>125500.0</td>\n",
       "    </tr>\n",
       "    <tr>\n",
       "      <th>40</th>\n",
       "      <td>29</td>\n",
       "      <td>Missouri</td>\n",
       "      <td>MO</td>\n",
       "      <td>6124160.0</td>\n",
       "      <td>38.7</td>\n",
       "      <td>57290.0</td>\n",
       "      <td>31839.0</td>\n",
       "      <td>772992.0</td>\n",
       "      <td>12.622009</td>\n",
       "      <td>163600.0</td>\n",
       "    </tr>\n",
       "    <tr>\n",
       "      <th>41</th>\n",
       "      <td>26</td>\n",
       "      <td>Michigan</td>\n",
       "      <td>MI</td>\n",
       "      <td>9973907.0</td>\n",
       "      <td>39.8</td>\n",
       "      <td>59234.0</td>\n",
       "      <td>32854.0</td>\n",
       "      <td>1337256.0</td>\n",
       "      <td>13.407544</td>\n",
       "      <td>162600.0</td>\n",
       "    </tr>\n",
       "    <tr>\n",
       "      <th>42</th>\n",
       "      <td>44</td>\n",
       "      <td>Rhode Island</td>\n",
       "      <td>RI</td>\n",
       "      <td>1057798.0</td>\n",
       "      <td>40.0</td>\n",
       "      <td>70305.0</td>\n",
       "      <td>37504.0</td>\n",
       "      <td>117785.0</td>\n",
       "      <td>11.134924</td>\n",
       "      <td>276600.0</td>\n",
       "    </tr>\n",
       "    <tr>\n",
       "      <th>43</th>\n",
       "      <td>27</td>\n",
       "      <td>Minnesota</td>\n",
       "      <td>MN</td>\n",
       "      <td>5600166.0</td>\n",
       "      <td>38.1</td>\n",
       "      <td>73382.0</td>\n",
       "      <td>38881.0</td>\n",
       "      <td>511185.0</td>\n",
       "      <td>9.128033</td>\n",
       "      <td>235700.0</td>\n",
       "    </tr>\n",
       "    <tr>\n",
       "      <th>44</th>\n",
       "      <td>19</td>\n",
       "      <td>Iowa</td>\n",
       "      <td>IA</td>\n",
       "      <td>3150011.0</td>\n",
       "      <td>38.3</td>\n",
       "      <td>61836.0</td>\n",
       "      <td>33021.0</td>\n",
       "      <td>339090.0</td>\n",
       "      <td>10.764724</td>\n",
       "      <td>153900.0</td>\n",
       "    </tr>\n",
       "    <tr>\n",
       "      <th>45</th>\n",
       "      <td>35</td>\n",
       "      <td>New Mexico</td>\n",
       "      <td>NM</td>\n",
       "      <td>2097021.0</td>\n",
       "      <td>38.1</td>\n",
       "      <td>51243.0</td>\n",
       "      <td>27945.0</td>\n",
       "      <td>381026.0</td>\n",
       "      <td>18.169870</td>\n",
       "      <td>175700.0</td>\n",
       "    </tr>\n",
       "    <tr>\n",
       "      <th>46</th>\n",
       "      <td>32</td>\n",
       "      <td>Nevada</td>\n",
       "      <td>NV</td>\n",
       "      <td>3030281.0</td>\n",
       "      <td>38.2</td>\n",
       "      <td>62043.0</td>\n",
       "      <td>32629.0</td>\n",
       "      <td>381695.0</td>\n",
       "      <td>12.596027</td>\n",
       "      <td>290200.0</td>\n",
       "    </tr>\n",
       "    <tr>\n",
       "      <th>47</th>\n",
       "      <td>10</td>\n",
       "      <td>Delaware</td>\n",
       "      <td>DE</td>\n",
       "      <td>967679.0</td>\n",
       "      <td>41.0</td>\n",
       "      <td>69110.0</td>\n",
       "      <td>36574.0</td>\n",
       "      <td>107641.0</td>\n",
       "      <td>11.123627</td>\n",
       "      <td>258300.0</td>\n",
       "    </tr>\n",
       "    <tr>\n",
       "      <th>48</th>\n",
       "      <td>72</td>\n",
       "      <td>Puerto Rico</td>\n",
       "      <td>None</td>\n",
       "      <td>3255642.0</td>\n",
       "      <td>42.4</td>\n",
       "      <td>21058.0</td>\n",
       "      <td>13318.0</td>\n",
       "      <td>1400958.0</td>\n",
       "      <td>43.031697</td>\n",
       "      <td>111200.0</td>\n",
       "    </tr>\n",
       "    <tr>\n",
       "      <th>49</th>\n",
       "      <td>21</td>\n",
       "      <td>Kentucky</td>\n",
       "      <td>KY</td>\n",
       "      <td>4461952.0</td>\n",
       "      <td>39.0</td>\n",
       "      <td>52238.0</td>\n",
       "      <td>29123.0</td>\n",
       "      <td>717895.0</td>\n",
       "      <td>16.089259</td>\n",
       "      <td>147100.0</td>\n",
       "    </tr>\n",
       "    <tr>\n",
       "      <th>50</th>\n",
       "      <td>46</td>\n",
       "      <td>South Dakota</td>\n",
       "      <td>SD</td>\n",
       "      <td>879336.0</td>\n",
       "      <td>37.2</td>\n",
       "      <td>59896.0</td>\n",
       "      <td>31415.0</td>\n",
       "      <td>108863.0</td>\n",
       "      <td>12.380137</td>\n",
       "      <td>174600.0</td>\n",
       "    </tr>\n",
       "    <tr>\n",
       "      <th>51</th>\n",
       "      <td>47</td>\n",
       "      <td>Tennessee</td>\n",
       "      <td>TN</td>\n",
       "      <td>6772268.0</td>\n",
       "      <td>38.8</td>\n",
       "      <td>54833.0</td>\n",
       "      <td>30869.0</td>\n",
       "      <td>965213.0</td>\n",
       "      <td>14.252434</td>\n",
       "      <td>177600.0</td>\n",
       "    </tr>\n",
       "  </tbody>\n",
       "</table>\n",
       "</div>"
      ],
      "text/plain": [
       "   State Code            State Name State Abbreviation  Population  \\\n",
       "0          42          Pennsylvania                 PA  12794885.0   \n",
       "1          06            California                 CA  39346023.0   \n",
       "2          54         West Virginia                 WV   1807426.0   \n",
       "3          49                  Utah                 UT   3151239.0   \n",
       "4          36              New York                 NY  19514849.0   \n",
       "5          11  District of Columbia                 DC    701974.0   \n",
       "6          02                Alaska                 AK    736990.0   \n",
       "7          12               Florida                 FL  21216924.0   \n",
       "8          45        South Carolina                 SC   5091517.0   \n",
       "9          38          North Dakota                 ND    760394.0   \n",
       "10         23                 Maine                 ME   1340825.0   \n",
       "11         13               Georgia                 GA  10516579.0   \n",
       "12         01               Alabama                 AL   4893186.0   \n",
       "13         33         New Hampshire                 NH   1355244.0   \n",
       "14         41                Oregon                 OR   4176346.0   \n",
       "15         56               Wyoming                 WY    581348.0   \n",
       "16         04               Arizona                 AZ   7174064.0   \n",
       "17         22             Louisiana                 LA   4664616.0   \n",
       "18         18               Indiana                 IN   6696893.0   \n",
       "19         16                 Idaho                 ID   1754367.0   \n",
       "20         09           Connecticut                 CT   3570549.0   \n",
       "21         15                Hawaii                 HI   1420074.0   \n",
       "22         17              Illinois                 IL  12716164.0   \n",
       "23         25         Massachusetts                 MA   6873003.0   \n",
       "24         48                 Texas                 TX  28635442.0   \n",
       "25         30               Montana                 MT   1061705.0   \n",
       "26         31              Nebraska                 NE   1923826.0   \n",
       "27         39                  Ohio                 OH  11675275.0   \n",
       "28         08              Colorado                 CO   5684926.0   \n",
       "29         34            New Jersey                 NJ   8885418.0   \n",
       "30         24              Maryland                 MD   6037624.0   \n",
       "31         51              Virginia                 VA   8509358.0   \n",
       "32         50               Vermont                 VT    624340.0   \n",
       "33         37        North Carolina                 NC  10386227.0   \n",
       "34         05              Arkansas                 AR   3011873.0   \n",
       "35         53            Washington                 WA   7512465.0   \n",
       "36         20                Kansas                 KS   2912619.0   \n",
       "37         40              Oklahoma                 OK   3949342.0   \n",
       "38         55             Wisconsin                 WI   5806975.0   \n",
       "39         28           Mississippi                 MS   2981835.0   \n",
       "40         29              Missouri                 MO   6124160.0   \n",
       "41         26              Michigan                 MI   9973907.0   \n",
       "42         44          Rhode Island                 RI   1057798.0   \n",
       "43         27             Minnesota                 MN   5600166.0   \n",
       "44         19                  Iowa                 IA   3150011.0   \n",
       "45         35            New Mexico                 NM   2097021.0   \n",
       "46         32                Nevada                 NV   3030281.0   \n",
       "47         10              Delaware                 DE    967679.0   \n",
       "48         72           Puerto Rico               None   3255642.0   \n",
       "49         21              Kentucky                 KY   4461952.0   \n",
       "50         46          South Dakota                 SD    879336.0   \n",
       "51         47             Tennessee                 TN   6772268.0   \n",
       "\n",
       "    Median Age  Household Income  Per Capita Income  Poverty Count  \\\n",
       "0         40.9           63627.0            35518.0      1480430.0   \n",
       "1         36.7           78672.0            38576.0      4853434.0   \n",
       "2         42.7           48037.0            27346.0       300152.0   \n",
       "3         31.1           74197.0            30986.0       283360.0   \n",
       "4         39.0           71117.0            40898.0      2581048.0   \n",
       "5         34.1           90842.0            58659.0       103391.0   \n",
       "6         34.6           77790.0            37094.0        74369.0   \n",
       "7         42.2           57703.0            32848.0      2772939.0   \n",
       "8         39.7           54864.0            30727.0       726470.0   \n",
       "9         35.2           65315.0            36289.0        77491.0   \n",
       "10        44.8           59489.0            33774.0       144384.0   \n",
       "11        36.9           61224.0            32427.0      1461572.0   \n",
       "12        39.2           52035.0            28934.0       762642.0   \n",
       "13        43.0           77923.0            41234.0        97418.0   \n",
       "14        39.5           65667.0            35393.0       506558.0   \n",
       "15        38.0           65304.0            34415.0        61006.0   \n",
       "16        37.9           61529.0            32340.0       990528.0   \n",
       "17        37.2           50800.0            29522.0       845230.0   \n",
       "18        37.8           58235.0            30693.0       838149.0   \n",
       "19        36.6           58915.0            29494.0       205676.0   \n",
       "20        41.1           79855.0            45668.0       339156.0   \n",
       "21        39.4           83173.0            37013.0       127971.0   \n",
       "22        38.3           68428.0            37306.0      1488670.0   \n",
       "23        39.6           84385.0            45555.0       653454.0   \n",
       "24        34.8           63826.0            32177.0      3984260.0   \n",
       "25        40.1           56539.0            32463.0       132476.0   \n",
       "26        36.6           63015.0            33205.0       193820.0   \n",
       "27        39.5           58116.0            32465.0      1546011.0   \n",
       "28        36.9           75231.0            39545.0       544232.0   \n",
       "29        40.0           85245.0            44153.0       842704.0   \n",
       "30        38.8           87063.0            43352.0       531553.0   \n",
       "31        38.4           76398.0            41255.0       826708.0   \n",
       "32        42.8           63477.0            35854.0        64700.0   \n",
       "33        38.9           56642.0            31993.0      1411939.0   \n",
       "34        38.3           49475.0            27724.0       470190.0   \n",
       "35        37.8           77006.0            40837.0       751044.0   \n",
       "36        36.9           61091.0            32798.0       323644.0   \n",
       "37        36.7           53840.0            29873.0       585520.0   \n",
       "38        39.6           63293.0            34450.0       620947.0   \n",
       "39        37.7           46511.0            25444.0       564439.0   \n",
       "40        38.7           57290.0            31839.0       772992.0   \n",
       "41        39.8           59234.0            32854.0      1337256.0   \n",
       "42        40.0           70305.0            37504.0       117785.0   \n",
       "43        38.1           73382.0            38881.0       511185.0   \n",
       "44        38.3           61836.0            33021.0       339090.0   \n",
       "45        38.1           51243.0            27945.0       381026.0   \n",
       "46        38.2           62043.0            32629.0       381695.0   \n",
       "47        41.0           69110.0            36574.0       107641.0   \n",
       "48        42.4           21058.0            13318.0      1400958.0   \n",
       "49        39.0           52238.0            29123.0       717895.0   \n",
       "50        37.2           59896.0            31415.0       108863.0   \n",
       "51        38.8           54833.0            30869.0       965213.0   \n",
       "\n",
       "    Poverty Rate  Average Value of Owner-Occupied Home  \n",
       "0      11.570483                              187500.0  \n",
       "1      12.335259                              538500.0  \n",
       "2      16.606600                              123200.0  \n",
       "3       8.992019                              305400.0  \n",
       "4      13.226072                              325000.0  \n",
       "5      14.728608                              618100.0  \n",
       "6      10.090910                              275600.0  \n",
       "7      13.069468                              232000.0  \n",
       "8      14.268243                              170100.0  \n",
       "9      10.190901                              199900.0  \n",
       "10     10.768296                              198000.0  \n",
       "11     13.897789                              190200.0  \n",
       "12     15.585796                              149600.0  \n",
       "13      7.188226                              272300.0  \n",
       "14     12.129215                              336700.0  \n",
       "15     10.493887                              228000.0  \n",
       "16     13.807069                              242000.0  \n",
       "17     18.120034                              168100.0  \n",
       "18     12.515490                              148900.0  \n",
       "19     11.723659                              235600.0  \n",
       "20      9.498707                              279700.0  \n",
       "21      9.011573                              636400.0  \n",
       "22     11.706911                              202100.0  \n",
       "23      9.507547                              398800.0  \n",
       "24     13.913737                              187200.0  \n",
       "25     12.477666                              244900.0  \n",
       "26     10.074716                              164000.0  \n",
       "27     13.241752                              151400.0  \n",
       "28      9.573247                              369900.0  \n",
       "29      9.484123                              343500.0  \n",
       "30      8.804010                              325400.0  \n",
       "31      9.715281                              282800.0  \n",
       "32     10.362943                              230900.0  \n",
       "33     13.594340                              182100.0  \n",
       "34     15.611216                              133600.0  \n",
       "35      9.997304                              366800.0  \n",
       "36     11.111786                              157600.0  \n",
       "37     14.825761                              142400.0  \n",
       "38     10.693123                              189200.0  \n",
       "39     18.929250                              125500.0  \n",
       "40     12.622009                              163600.0  \n",
       "41     13.407544                              162600.0  \n",
       "42     11.134924                              276600.0  \n",
       "43      9.128033                              235700.0  \n",
       "44     10.764724                              153900.0  \n",
       "45     18.169870                              175700.0  \n",
       "46     12.596027                              290200.0  \n",
       "47     11.123627                              258300.0  \n",
       "48     43.031697                              111200.0  \n",
       "49     16.089259                              147100.0  \n",
       "50     12.380137                              174600.0  \n",
       "51     14.252434                              177600.0  "
      ]
     },
     "execution_count": 8,
     "metadata": {},
     "output_type": "execute_result"
    }
   ],
   "source": [
    "%matplotlib inline\n",
    "\n",
    "import requests\n",
    "import pandas as pd\n",
    "from census import Census\n",
    "import matplotlib.pyplot as plt\n",
    "import numpy as np\n",
    "\n",
    "api_key = 'a61f540cf4897b56d88a369afc0e65de6fa6c5e8'\n",
    "\n",
    "c = Census(\n",
    "    api_key,\n",
    "    year=2020\n",
    ")\n",
    "\n",
    "# Run Census Search to retrieve data for all states (2020 ACS5 Census)\n",
    "census_data = c.acs5.get(\n",
    "    (\n",
    "        \"NAME\",\n",
    "        \"B19013_001E\",\n",
    "        \"B01003_001E\",\n",
    "        \"B01002_001E\",\n",
    "        \"B19301_001E\",\n",
    "        \"B17001_002E\",\n",
    "        \"B25077_001E\"\n",
    "    ),\n",
    "    {'for': 'state:*'}\n",
    ")\n",
    "\n",
    "# Convert to DataFrame\n",
    "census_pd = pd.DataFrame(census_data)\n",
    "\n",
    "# Column renaming\n",
    "census_pd = census_pd.rename(\n",
    "    columns={\n",
    "        \"B01003_001E\": \"Population\",\n",
    "        \"B01002_001E\": \"Median Age\",\n",
    "        \"B19013_001E\": \"Household Income\",\n",
    "        \"B19301_001E\": \"Per Capita Income\",\n",
    "        \"B17001_002E\": \"Poverty Count\",\n",
    "        \"B25077_001E\": \"Average Value of Owner-Occupied Home\",\n",
    "        \"NAME\":\"State Name\",\n",
    "        \"state\": \"State Code\"\n",
    "    }\n",
    "\n",
    ")\n",
    "\n",
    "# Add a Poverty Rate column (Poverty Count / Population)\n",
    "census_pd[\"Poverty Rate\"] = 100 * census_pd[\"Poverty Count\"].astype(int) / census_pd[\"Population\"].astype(int)\n",
    "\n",
    "# Write in state abbreviations for all states\n",
    "state_abbreviations = {\n",
    "    \"Alabama\": \"AL\",\n",
    "    \"Alaska\": \"AK\",\n",
    "    \"Arizona\": \"AZ\",\n",
    "    \"Arkansas\": \"AR\",\n",
    "    \"California\": \"CA\",\n",
    "    \"Colorado\": \"CO\",\n",
    "    \"Connecticut\": \"CT\",\n",
    "    \"Delaware\": \"DE\",\n",
    "    \"Florida\": \"FL\",\n",
    "    \"Georgia\": \"GA\",\n",
    "    \"Hawaii\": \"HI\",\n",
    "    \"Idaho\": \"ID\",\n",
    "    \"Illinois\": \"IL\",\n",
    "    \"Indiana\": \"IN\",\n",
    "    \"Iowa\": \"IA\",\n",
    "    \"Kansas\": \"KS\",\n",
    "    \"Kentucky\": \"KY\",\n",
    "    \"Louisiana\": \"LA\",\n",
    "    \"Maine\": \"ME\",\n",
    "    \"Maryland\": \"MD\",\n",
    "    \"Massachusetts\": \"MA\",\n",
    "    \"Michigan\": \"MI\",\n",
    "    \"Minnesota\": \"MN\",\n",
    "    \"Mississippi\": \"MS\",\n",
    "    \"Missouri\": \"MO\",\n",
    "    \"Montana\": \"MT\",\n",
    "    \"Nebraska\": \"NE\",\n",
    "    \"Nevada\": \"NV\",\n",
    "    \"New Hampshire\": \"NH\",\n",
    "    \"New Jersey\": \"NJ\",\n",
    "    \"New Mexico\": \"NM\",\n",
    "    \"New York\": \"NY\",\n",
    "    \"North Carolina\": \"NC\",\n",
    "    \"North Dakota\": \"ND\",\n",
    "    \"Ohio\": \"OH\",\n",
    "    \"Oklahoma\": \"OK\",\n",
    "    \"Oregon\": \"OR\",\n",
    "    \"Pennsylvania\": \"PA\",\n",
    "    \"Rhode Island\": \"RI\",\n",
    "    \"South Carolina\": \"SC\",\n",
    "    \"South Dakota\": \"SD\",\n",
    "    \"Tennessee\": \"TN\",\n",
    "    \"Texas\": \"TX\",\n",
    "    \"Utah\": \"UT\",\n",
    "    \"Vermont\": \"VT\",\n",
    "    \"Virginia\": \"VA\",\n",
    "    \"Washington\": \"WA\",\n",
    "    \"West Virginia\": \"WV\",\n",
    "    \"Wisconsin\": \"WI\",\n",
    "    \"Wyoming\": \"WY\",\n",
    "    \"District of Columbia\":\"DC\"\n",
    "}\n",
    "\n",
    "# Create a new column that corresponds the state abbreviation to the state in State Name column\n",
    "census_pd[\"State Abbreviation\"] = census_pd[\"State Name\"].apply(lambda state_name: state_abbreviations.get(state_name))\n",
    "\n",
    "census_pd = census_pd[\n",
    "    [\n",
    "        \"State Code\",\n",
    "        \"State Name\",\n",
    "        \"State Abbreviation\",\n",
    "        \"Population\",\n",
    "        \"Median Age\",\n",
    "        \"Household Income\",\n",
    "        \"Per Capita Income\",\n",
    "        \"Poverty Count\",\n",
    "        \"Poverty Rate\",\n",
    "        \"Average Value of Owner-Occupied Home\"\n",
    "    ]\n",
    "]\n",
    "\n",
    "# Display DataFrame length and sample data\n",
    "print(f\"Number of rows in the DataFrame: {len(census_pd)}\")\n",
    "census_pd\n"
   ]
  },
  {
   "cell_type": "code",
   "execution_count": 9,
   "metadata": {},
   "outputs": [
    {
     "data": {
      "application/vnd.plotly.v1+json": {
       "config": {
        "plotlyServerURL": "https://plot.ly"
       },
       "data": [
        {
         "coloraxis": "coloraxis",
         "geo": "geo",
         "hovertemplate": "State Abbreviation=%{location}<br>Household Income=%{z}<extra></extra>",
         "locationmode": "USA-states",
         "locations": [
          "PA",
          "CA",
          "WV",
          "UT",
          "NY",
          "DC",
          "AK",
          "FL",
          "SC",
          "ND",
          "ME",
          "GA",
          "AL",
          "NH",
          "OR",
          "WY",
          "AZ",
          "LA",
          "IN",
          "ID",
          "CT",
          "HI",
          "IL",
          "MA",
          "TX",
          "MT",
          "NE",
          "OH",
          "CO",
          "NJ",
          "MD",
          "VA",
          "VT",
          "NC",
          "AR",
          "WA",
          "KS",
          "OK",
          "WI",
          "MS",
          "MO",
          "MI",
          "RI",
          "MN",
          "IA",
          "NM",
          "NV",
          "DE",
          null,
          "KY",
          "SD",
          "TN"
         ],
         "name": "",
         "type": "choropleth",
         "z": [
          63627,
          78672,
          48037,
          74197,
          71117,
          90842,
          77790,
          57703,
          54864,
          65315,
          59489,
          61224,
          52035,
          77923,
          65667,
          65304,
          61529,
          50800,
          58235,
          58915,
          79855,
          83173,
          68428,
          84385,
          63826,
          56539,
          63015,
          58116,
          75231,
          85245,
          87063,
          76398,
          63477,
          56642,
          49475,
          77006,
          61091,
          53840,
          63293,
          46511,
          57290,
          59234,
          70305,
          73382,
          61836,
          51243,
          62043,
          69110,
          21058,
          52238,
          59896,
          54833
         ]
        }
       ],
       "layout": {
        "coloraxis": {
         "cmax": 90842,
         "cmin": 21058,
         "colorbar": {
          "title": {
           "text": "Household Income"
          }
         },
         "colorscale": [
          [
           0,
           "#440154"
          ],
          [
           0.1111111111111111,
           "#482878"
          ],
          [
           0.2222222222222222,
           "#3e4989"
          ],
          [
           0.3333333333333333,
           "#31688e"
          ],
          [
           0.4444444444444444,
           "#26828e"
          ],
          [
           0.5555555555555556,
           "#1f9e89"
          ],
          [
           0.6666666666666666,
           "#35b779"
          ],
          [
           0.7777777777777778,
           "#6ece58"
          ],
          [
           0.8888888888888888,
           "#b5de2b"
          ],
          [
           1,
           "#fde725"
          ]
         ]
        },
        "geo": {
         "center": {},
         "domain": {
          "x": [
           0,
           1
          ],
          "y": [
           0,
           1
          ]
         },
         "scope": "usa"
        },
        "legend": {
         "tracegroupgap": 0
        },
        "margin": {
         "b": 20,
         "l": 20,
         "r": 40,
         "t": 50
        },
        "template": {
         "data": {
          "bar": [
           {
            "error_x": {
             "color": "#2a3f5f"
            },
            "error_y": {
             "color": "#2a3f5f"
            },
            "marker": {
             "line": {
              "color": "#E5ECF6",
              "width": 0.5
             },
             "pattern": {
              "fillmode": "overlay",
              "size": 10,
              "solidity": 0.2
             }
            },
            "type": "bar"
           }
          ],
          "barpolar": [
           {
            "marker": {
             "line": {
              "color": "#E5ECF6",
              "width": 0.5
             },
             "pattern": {
              "fillmode": "overlay",
              "size": 10,
              "solidity": 0.2
             }
            },
            "type": "barpolar"
           }
          ],
          "carpet": [
           {
            "aaxis": {
             "endlinecolor": "#2a3f5f",
             "gridcolor": "white",
             "linecolor": "white",
             "minorgridcolor": "white",
             "startlinecolor": "#2a3f5f"
            },
            "baxis": {
             "endlinecolor": "#2a3f5f",
             "gridcolor": "white",
             "linecolor": "white",
             "minorgridcolor": "white",
             "startlinecolor": "#2a3f5f"
            },
            "type": "carpet"
           }
          ],
          "choropleth": [
           {
            "colorbar": {
             "outlinewidth": 0,
             "ticks": ""
            },
            "type": "choropleth"
           }
          ],
          "contour": [
           {
            "colorbar": {
             "outlinewidth": 0,
             "ticks": ""
            },
            "colorscale": [
             [
              0,
              "#0d0887"
             ],
             [
              0.1111111111111111,
              "#46039f"
             ],
             [
              0.2222222222222222,
              "#7201a8"
             ],
             [
              0.3333333333333333,
              "#9c179e"
             ],
             [
              0.4444444444444444,
              "#bd3786"
             ],
             [
              0.5555555555555556,
              "#d8576b"
             ],
             [
              0.6666666666666666,
              "#ed7953"
             ],
             [
              0.7777777777777778,
              "#fb9f3a"
             ],
             [
              0.8888888888888888,
              "#fdca26"
             ],
             [
              1,
              "#f0f921"
             ]
            ],
            "type": "contour"
           }
          ],
          "contourcarpet": [
           {
            "colorbar": {
             "outlinewidth": 0,
             "ticks": ""
            },
            "type": "contourcarpet"
           }
          ],
          "heatmap": [
           {
            "colorbar": {
             "outlinewidth": 0,
             "ticks": ""
            },
            "colorscale": [
             [
              0,
              "#0d0887"
             ],
             [
              0.1111111111111111,
              "#46039f"
             ],
             [
              0.2222222222222222,
              "#7201a8"
             ],
             [
              0.3333333333333333,
              "#9c179e"
             ],
             [
              0.4444444444444444,
              "#bd3786"
             ],
             [
              0.5555555555555556,
              "#d8576b"
             ],
             [
              0.6666666666666666,
              "#ed7953"
             ],
             [
              0.7777777777777778,
              "#fb9f3a"
             ],
             [
              0.8888888888888888,
              "#fdca26"
             ],
             [
              1,
              "#f0f921"
             ]
            ],
            "type": "heatmap"
           }
          ],
          "heatmapgl": [
           {
            "colorbar": {
             "outlinewidth": 0,
             "ticks": ""
            },
            "colorscale": [
             [
              0,
              "#0d0887"
             ],
             [
              0.1111111111111111,
              "#46039f"
             ],
             [
              0.2222222222222222,
              "#7201a8"
             ],
             [
              0.3333333333333333,
              "#9c179e"
             ],
             [
              0.4444444444444444,
              "#bd3786"
             ],
             [
              0.5555555555555556,
              "#d8576b"
             ],
             [
              0.6666666666666666,
              "#ed7953"
             ],
             [
              0.7777777777777778,
              "#fb9f3a"
             ],
             [
              0.8888888888888888,
              "#fdca26"
             ],
             [
              1,
              "#f0f921"
             ]
            ],
            "type": "heatmapgl"
           }
          ],
          "histogram": [
           {
            "marker": {
             "pattern": {
              "fillmode": "overlay",
              "size": 10,
              "solidity": 0.2
             }
            },
            "type": "histogram"
           }
          ],
          "histogram2d": [
           {
            "colorbar": {
             "outlinewidth": 0,
             "ticks": ""
            },
            "colorscale": [
             [
              0,
              "#0d0887"
             ],
             [
              0.1111111111111111,
              "#46039f"
             ],
             [
              0.2222222222222222,
              "#7201a8"
             ],
             [
              0.3333333333333333,
              "#9c179e"
             ],
             [
              0.4444444444444444,
              "#bd3786"
             ],
             [
              0.5555555555555556,
              "#d8576b"
             ],
             [
              0.6666666666666666,
              "#ed7953"
             ],
             [
              0.7777777777777778,
              "#fb9f3a"
             ],
             [
              0.8888888888888888,
              "#fdca26"
             ],
             [
              1,
              "#f0f921"
             ]
            ],
            "type": "histogram2d"
           }
          ],
          "histogram2dcontour": [
           {
            "colorbar": {
             "outlinewidth": 0,
             "ticks": ""
            },
            "colorscale": [
             [
              0,
              "#0d0887"
             ],
             [
              0.1111111111111111,
              "#46039f"
             ],
             [
              0.2222222222222222,
              "#7201a8"
             ],
             [
              0.3333333333333333,
              "#9c179e"
             ],
             [
              0.4444444444444444,
              "#bd3786"
             ],
             [
              0.5555555555555556,
              "#d8576b"
             ],
             [
              0.6666666666666666,
              "#ed7953"
             ],
             [
              0.7777777777777778,
              "#fb9f3a"
             ],
             [
              0.8888888888888888,
              "#fdca26"
             ],
             [
              1,
              "#f0f921"
             ]
            ],
            "type": "histogram2dcontour"
           }
          ],
          "mesh3d": [
           {
            "colorbar": {
             "outlinewidth": 0,
             "ticks": ""
            },
            "type": "mesh3d"
           }
          ],
          "parcoords": [
           {
            "line": {
             "colorbar": {
              "outlinewidth": 0,
              "ticks": ""
             }
            },
            "type": "parcoords"
           }
          ],
          "pie": [
           {
            "automargin": true,
            "type": "pie"
           }
          ],
          "scatter": [
           {
            "fillpattern": {
             "fillmode": "overlay",
             "size": 10,
             "solidity": 0.2
            },
            "type": "scatter"
           }
          ],
          "scatter3d": [
           {
            "line": {
             "colorbar": {
              "outlinewidth": 0,
              "ticks": ""
             }
            },
            "marker": {
             "colorbar": {
              "outlinewidth": 0,
              "ticks": ""
             }
            },
            "type": "scatter3d"
           }
          ],
          "scattercarpet": [
           {
            "marker": {
             "colorbar": {
              "outlinewidth": 0,
              "ticks": ""
             }
            },
            "type": "scattercarpet"
           }
          ],
          "scattergeo": [
           {
            "marker": {
             "colorbar": {
              "outlinewidth": 0,
              "ticks": ""
             }
            },
            "type": "scattergeo"
           }
          ],
          "scattergl": [
           {
            "marker": {
             "colorbar": {
              "outlinewidth": 0,
              "ticks": ""
             }
            },
            "type": "scattergl"
           }
          ],
          "scattermapbox": [
           {
            "marker": {
             "colorbar": {
              "outlinewidth": 0,
              "ticks": ""
             }
            },
            "type": "scattermapbox"
           }
          ],
          "scatterpolar": [
           {
            "marker": {
             "colorbar": {
              "outlinewidth": 0,
              "ticks": ""
             }
            },
            "type": "scatterpolar"
           }
          ],
          "scatterpolargl": [
           {
            "marker": {
             "colorbar": {
              "outlinewidth": 0,
              "ticks": ""
             }
            },
            "type": "scatterpolargl"
           }
          ],
          "scatterternary": [
           {
            "marker": {
             "colorbar": {
              "outlinewidth": 0,
              "ticks": ""
             }
            },
            "type": "scatterternary"
           }
          ],
          "surface": [
           {
            "colorbar": {
             "outlinewidth": 0,
             "ticks": ""
            },
            "colorscale": [
             [
              0,
              "#0d0887"
             ],
             [
              0.1111111111111111,
              "#46039f"
             ],
             [
              0.2222222222222222,
              "#7201a8"
             ],
             [
              0.3333333333333333,
              "#9c179e"
             ],
             [
              0.4444444444444444,
              "#bd3786"
             ],
             [
              0.5555555555555556,
              "#d8576b"
             ],
             [
              0.6666666666666666,
              "#ed7953"
             ],
             [
              0.7777777777777778,
              "#fb9f3a"
             ],
             [
              0.8888888888888888,
              "#fdca26"
             ],
             [
              1,
              "#f0f921"
             ]
            ],
            "type": "surface"
           }
          ],
          "table": [
           {
            "cells": {
             "fill": {
              "color": "#EBF0F8"
             },
             "line": {
              "color": "white"
             }
            },
            "header": {
             "fill": {
              "color": "#C8D4E3"
             },
             "line": {
              "color": "white"
             }
            },
            "type": "table"
           }
          ]
         },
         "layout": {
          "annotationdefaults": {
           "arrowcolor": "#2a3f5f",
           "arrowhead": 0,
           "arrowwidth": 1
          },
          "autotypenumbers": "strict",
          "coloraxis": {
           "colorbar": {
            "outlinewidth": 0,
            "ticks": ""
           }
          },
          "colorscale": {
           "diverging": [
            [
             0,
             "#8e0152"
            ],
            [
             0.1,
             "#c51b7d"
            ],
            [
             0.2,
             "#de77ae"
            ],
            [
             0.3,
             "#f1b6da"
            ],
            [
             0.4,
             "#fde0ef"
            ],
            [
             0.5,
             "#f7f7f7"
            ],
            [
             0.6,
             "#e6f5d0"
            ],
            [
             0.7,
             "#b8e186"
            ],
            [
             0.8,
             "#7fbc41"
            ],
            [
             0.9,
             "#4d9221"
            ],
            [
             1,
             "#276419"
            ]
           ],
           "sequential": [
            [
             0,
             "#0d0887"
            ],
            [
             0.1111111111111111,
             "#46039f"
            ],
            [
             0.2222222222222222,
             "#7201a8"
            ],
            [
             0.3333333333333333,
             "#9c179e"
            ],
            [
             0.4444444444444444,
             "#bd3786"
            ],
            [
             0.5555555555555556,
             "#d8576b"
            ],
            [
             0.6666666666666666,
             "#ed7953"
            ],
            [
             0.7777777777777778,
             "#fb9f3a"
            ],
            [
             0.8888888888888888,
             "#fdca26"
            ],
            [
             1,
             "#f0f921"
            ]
           ],
           "sequentialminus": [
            [
             0,
             "#0d0887"
            ],
            [
             0.1111111111111111,
             "#46039f"
            ],
            [
             0.2222222222222222,
             "#7201a8"
            ],
            [
             0.3333333333333333,
             "#9c179e"
            ],
            [
             0.4444444444444444,
             "#bd3786"
            ],
            [
             0.5555555555555556,
             "#d8576b"
            ],
            [
             0.6666666666666666,
             "#ed7953"
            ],
            [
             0.7777777777777778,
             "#fb9f3a"
            ],
            [
             0.8888888888888888,
             "#fdca26"
            ],
            [
             1,
             "#f0f921"
            ]
           ]
          },
          "colorway": [
           "#636efa",
           "#EF553B",
           "#00cc96",
           "#ab63fa",
           "#FFA15A",
           "#19d3f3",
           "#FF6692",
           "#B6E880",
           "#FF97FF",
           "#FECB52"
          ],
          "font": {
           "color": "#2a3f5f"
          },
          "geo": {
           "bgcolor": "white",
           "lakecolor": "white",
           "landcolor": "#E5ECF6",
           "showlakes": true,
           "showland": true,
           "subunitcolor": "white"
          },
          "hoverlabel": {
           "align": "left"
          },
          "hovermode": "closest",
          "mapbox": {
           "style": "light"
          },
          "paper_bgcolor": "white",
          "plot_bgcolor": "#E5ECF6",
          "polar": {
           "angularaxis": {
            "gridcolor": "white",
            "linecolor": "white",
            "ticks": ""
           },
           "bgcolor": "#E5ECF6",
           "radialaxis": {
            "gridcolor": "white",
            "linecolor": "white",
            "ticks": ""
           }
          },
          "scene": {
           "xaxis": {
            "backgroundcolor": "#E5ECF6",
            "gridcolor": "white",
            "gridwidth": 2,
            "linecolor": "white",
            "showbackground": true,
            "ticks": "",
            "zerolinecolor": "white"
           },
           "yaxis": {
            "backgroundcolor": "#E5ECF6",
            "gridcolor": "white",
            "gridwidth": 2,
            "linecolor": "white",
            "showbackground": true,
            "ticks": "",
            "zerolinecolor": "white"
           },
           "zaxis": {
            "backgroundcolor": "#E5ECF6",
            "gridcolor": "white",
            "gridwidth": 2,
            "linecolor": "white",
            "showbackground": true,
            "ticks": "",
            "zerolinecolor": "white"
           }
          },
          "shapedefaults": {
           "line": {
            "color": "#2a3f5f"
           }
          },
          "ternary": {
           "aaxis": {
            "gridcolor": "white",
            "linecolor": "white",
            "ticks": ""
           },
           "baxis": {
            "gridcolor": "white",
            "linecolor": "white",
            "ticks": ""
           },
           "bgcolor": "#E5ECF6",
           "caxis": {
            "gridcolor": "white",
            "linecolor": "white",
            "ticks": ""
           }
          },
          "title": {
           "x": 0.05
          },
          "xaxis": {
           "automargin": true,
           "gridcolor": "white",
           "linecolor": "white",
           "ticks": "",
           "title": {
            "standoff": 15
           },
           "zerolinecolor": "white",
           "zerolinewidth": 2
          },
          "yaxis": {
           "automargin": true,
           "gridcolor": "white",
           "linecolor": "white",
           "ticks": "",
           "title": {
            "standoff": 15
           },
           "zerolinecolor": "white",
           "zerolinewidth": 2
          }
         }
        },
        "title": {
         "text": "Median Household Income by State 2020"
        }
       }
      }
     },
     "metadata": {},
     "output_type": "display_data"
    }
   ],
   "source": [
    "import plotly.express as px\n",
    "\n",
    "\n",
    "\n",
    "fig = px.choropleth(census_pd,locations= 'State Abbreviation',locationmode=\"USA-states\", color='Household Income',\n",
    "                           color_continuous_scale=\"Viridis\",\n",
    "                           range_color=(census_pd[\"Household Income\"].min(), census_pd[\"Household Income\"].max()),\n",
    "                           scope=\"usa\", title='Median Household Income by State 2020'\n",
    "                          ) \n",
    "\n",
    "fig.update_layout(margin={\"r\":40,\"t\":50,\"l\":20,\"b\":20})\n",
    "fig.show()\n"
   ]
  },
  {
   "cell_type": "code",
   "execution_count": 10,
   "metadata": {},
   "outputs": [
    {
     "ename": "ValueError",
     "evalue": "\nImage export using the \"kaleido\" engine requires the kaleido package,\nwhich can be installed using pip:\n    $ pip install -U kaleido\n",
     "output_type": "error",
     "traceback": [
      "\u001b[1;31m---------------------------------------------------------------------------\u001b[0m",
      "\u001b[1;31mValueError\u001b[0m                                Traceback (most recent call last)",
      "\u001b[1;32mc:\\Users\\deebn\\OneDrive\\Desktop\\RUTGERSBOOTCAMP\\RUT-VIRT-DATA-PT-08-2023-U-LOLC\\projectone\\map_test.ipynb Cell 3\u001b[0m line \u001b[0;36m7\n\u001b[0;32m      <a href='vscode-notebook-cell:/c%3A/Users/deebn/OneDrive/Desktop/RUTGERSBOOTCAMP/RUT-VIRT-DATA-PT-08-2023-U-LOLC/projectone/map_test.ipynb#X16sZmlsZQ%3D%3D?line=3'>4</a>\u001b[0m output_file_path \u001b[39m=\u001b[39m \u001b[39m\"\u001b[39m\u001b[39m2020_MHI.png\u001b[39m\u001b[39m\"\u001b[39m\n\u001b[0;32m      <a href='vscode-notebook-cell:/c%3A/Users/deebn/OneDrive/Desktop/RUTGERSBOOTCAMP/RUT-VIRT-DATA-PT-08-2023-U-LOLC/projectone/map_test.ipynb#X16sZmlsZQ%3D%3D?line=5'>6</a>\u001b[0m \u001b[39m# Use plotly.io.write_image to save the figure as a PNG image\u001b[39;00m\n\u001b[1;32m----> <a href='vscode-notebook-cell:/c%3A/Users/deebn/OneDrive/Desktop/RUTGERSBOOTCAMP/RUT-VIRT-DATA-PT-08-2023-U-LOLC/projectone/map_test.ipynb#X16sZmlsZQ%3D%3D?line=6'>7</a>\u001b[0m pio\u001b[39m.\u001b[39;49mwrite_image(fig, output_file_path, \u001b[39mformat\u001b[39;49m\u001b[39m=\u001b[39;49m\u001b[39m\"\u001b[39;49m\u001b[39mpng\u001b[39;49m\u001b[39m\"\u001b[39;49m)\n",
      "File \u001b[1;32mc:\\Users\\deebn\\anaconda3\\envs\\PythonData_2023_08\\Lib\\site-packages\\plotly\\io\\_kaleido.py:267\u001b[0m, in \u001b[0;36mwrite_image\u001b[1;34m(fig, file, format, scale, width, height, validate, engine)\u001b[0m\n\u001b[0;32m    251\u001b[0m             \u001b[39mraise\u001b[39;00m \u001b[39mValueError\u001b[39;00m(\n\u001b[0;32m    252\u001b[0m \u001b[39m                \u001b[39m\u001b[39m\"\"\"\u001b[39;00m\n\u001b[0;32m    253\u001b[0m \u001b[39mCannot infer image type from output path '{file}'.\u001b[39;00m\n\u001b[1;32m   (...)\u001b[0m\n\u001b[0;32m    261\u001b[0m                 )\n\u001b[0;32m    262\u001b[0m             )\n\u001b[0;32m    264\u001b[0m     \u001b[39m# Request image\u001b[39;00m\n\u001b[0;32m    265\u001b[0m     \u001b[39m# -------------\u001b[39;00m\n\u001b[0;32m    266\u001b[0m     \u001b[39m# Do this first so we don't create a file if image conversion fails\u001b[39;00m\n\u001b[1;32m--> 267\u001b[0m     img_data \u001b[39m=\u001b[39m to_image(\n\u001b[0;32m    268\u001b[0m         fig,\n\u001b[0;32m    269\u001b[0m         \u001b[39mformat\u001b[39;49m\u001b[39m=\u001b[39;49m\u001b[39mformat\u001b[39;49m,\n\u001b[0;32m    270\u001b[0m         scale\u001b[39m=\u001b[39;49mscale,\n\u001b[0;32m    271\u001b[0m         width\u001b[39m=\u001b[39;49mwidth,\n\u001b[0;32m    272\u001b[0m         height\u001b[39m=\u001b[39;49mheight,\n\u001b[0;32m    273\u001b[0m         validate\u001b[39m=\u001b[39;49mvalidate,\n\u001b[0;32m    274\u001b[0m         engine\u001b[39m=\u001b[39;49mengine,\n\u001b[0;32m    275\u001b[0m     )\n\u001b[0;32m    277\u001b[0m     \u001b[39m# Open file\u001b[39;00m\n\u001b[0;32m    278\u001b[0m     \u001b[39m# ---------\u001b[39;00m\n\u001b[0;32m    279\u001b[0m     \u001b[39mif\u001b[39;00m path \u001b[39mis\u001b[39;00m \u001b[39mNone\u001b[39;00m:\n\u001b[0;32m    280\u001b[0m         \u001b[39m# We previously failed to make sense of `file` as a pathlib object.\u001b[39;00m\n\u001b[0;32m    281\u001b[0m         \u001b[39m# Attempt to write to `file` as an open file descriptor.\u001b[39;00m\n",
      "File \u001b[1;32mc:\\Users\\deebn\\anaconda3\\envs\\PythonData_2023_08\\Lib\\site-packages\\plotly\\io\\_kaleido.py:133\u001b[0m, in \u001b[0;36mto_image\u001b[1;34m(fig, format, width, height, scale, validate, engine)\u001b[0m\n\u001b[0;32m    131\u001b[0m     \u001b[39m# Raise informative error message if Kaleido is not installed\u001b[39;00m\n\u001b[0;32m    132\u001b[0m     \u001b[39mif\u001b[39;00m scope \u001b[39mis\u001b[39;00m \u001b[39mNone\u001b[39;00m:\n\u001b[1;32m--> 133\u001b[0m         \u001b[39mraise\u001b[39;00m \u001b[39mValueError\u001b[39;00m(\n\u001b[0;32m    134\u001b[0m \u001b[39m            \u001b[39m\u001b[39m\"\"\"\u001b[39;00m\n\u001b[0;32m    135\u001b[0m \u001b[39mImage export using the \"kaleido\" engine requires the kaleido package,\u001b[39;00m\n\u001b[0;32m    136\u001b[0m \u001b[39mwhich can be installed using pip:\u001b[39;00m\n\u001b[0;32m    137\u001b[0m \u001b[39m    $ pip install -U kaleido\u001b[39;00m\n\u001b[0;32m    138\u001b[0m \u001b[39m\"\"\"\u001b[39;00m\n\u001b[0;32m    139\u001b[0m         )\n\u001b[0;32m    141\u001b[0m     \u001b[39m# Validate figure\u001b[39;00m\n\u001b[0;32m    142\u001b[0m     \u001b[39m# ---------------\u001b[39;00m\n\u001b[0;32m    143\u001b[0m     fig_dict \u001b[39m=\u001b[39m validate_coerce_fig_to_dict(fig, validate)\n",
      "\u001b[1;31mValueError\u001b[0m: \nImage export using the \"kaleido\" engine requires the kaleido package,\nwhich can be installed using pip:\n    $ pip install -U kaleido\n"
     ]
    }
   ],
   "source": [
    "import plotly.express as px\n",
    "import plotly.io as pio\n",
    "\n",
    "output_file_path = \"2020_MHI.png\"\n",
    "\n",
    "# Use plotly.io.write_image to save the figure as a PNG image\n",
    "pio.write_image(fig, output_file_path, format=\"png\")"
   ]
  },
  {
   "cell_type": "code",
   "execution_count": null,
   "metadata": {},
   "outputs": [
    {
     "data": {
      "application/vnd.plotly.v1+json": {
       "config": {
        "plotlyServerURL": "https://plot.ly"
       },
       "data": [
        {
         "coloraxis": "coloraxis",
         "geo": "geo",
         "hovertemplate": "State Abbreviation=%{location}<br>Average Value of Owner-Occupied Home=%{z}<extra></extra>",
         "locationmode": "USA-states",
         "locations": [
          "PA",
          "CA",
          "WV",
          "UT",
          "NY",
          "DC",
          "AK",
          "FL",
          "SC",
          "ND",
          "ME",
          "GA",
          "AL",
          "NH",
          "OR",
          "WY",
          "AZ",
          "LA",
          "IN",
          "ID",
          "CT",
          "HI",
          "IL",
          "MA",
          "TX",
          "MT",
          "NE",
          "OH",
          "CO",
          "NJ",
          "MD",
          "VA",
          "VT",
          "NC",
          "AR",
          "WA",
          "KS",
          "OK",
          "WI",
          "MS",
          "MO",
          "MI",
          "RI",
          "MN",
          "IA",
          "NM",
          "NV",
          "DE",
          null,
          "KY",
          "SD",
          "TN"
         ],
         "name": "",
         "type": "choropleth",
         "z": [
          187500,
          538500,
          123200,
          305400,
          325000,
          618100,
          275600,
          232000,
          170100,
          199900,
          198000,
          190200,
          149600,
          272300,
          336700,
          228000,
          242000,
          168100,
          148900,
          235600,
          279700,
          636400,
          202100,
          398800,
          187200,
          244900,
          164000,
          151400,
          369900,
          343500,
          325400,
          282800,
          230900,
          182100,
          133600,
          366800,
          157600,
          142400,
          189200,
          125500,
          163600,
          162600,
          276600,
          235700,
          153900,
          175700,
          290200,
          258300,
          111200,
          147100,
          174600,
          177600
         ]
        }
       ],
       "layout": {
        "coloraxis": {
         "cmax": 636400,
         "cmin": 111200,
         "colorbar": {
          "title": {
           "text": "Average Value of Owner-Occupied Home"
          }
         },
         "colorscale": [
          [
           0,
           "#440154"
          ],
          [
           0.1111111111111111,
           "#482878"
          ],
          [
           0.2222222222222222,
           "#3e4989"
          ],
          [
           0.3333333333333333,
           "#31688e"
          ],
          [
           0.4444444444444444,
           "#26828e"
          ],
          [
           0.5555555555555556,
           "#1f9e89"
          ],
          [
           0.6666666666666666,
           "#35b779"
          ],
          [
           0.7777777777777778,
           "#6ece58"
          ],
          [
           0.8888888888888888,
           "#b5de2b"
          ],
          [
           1,
           "#fde725"
          ]
         ]
        },
        "geo": {
         "center": {},
         "domain": {
          "x": [
           0,
           1
          ],
          "y": [
           0,
           1
          ]
         },
         "scope": "usa"
        },
        "legend": {
         "tracegroupgap": 0
        },
        "margin": {
         "b": 50,
         "l": 50,
         "r": 50,
         "t": 50
        },
        "template": {
         "data": {
          "bar": [
           {
            "error_x": {
             "color": "#2a3f5f"
            },
            "error_y": {
             "color": "#2a3f5f"
            },
            "marker": {
             "line": {
              "color": "#E5ECF6",
              "width": 0.5
             },
             "pattern": {
              "fillmode": "overlay",
              "size": 10,
              "solidity": 0.2
             }
            },
            "type": "bar"
           }
          ],
          "barpolar": [
           {
            "marker": {
             "line": {
              "color": "#E5ECF6",
              "width": 0.5
             },
             "pattern": {
              "fillmode": "overlay",
              "size": 10,
              "solidity": 0.2
             }
            },
            "type": "barpolar"
           }
          ],
          "carpet": [
           {
            "aaxis": {
             "endlinecolor": "#2a3f5f",
             "gridcolor": "white",
             "linecolor": "white",
             "minorgridcolor": "white",
             "startlinecolor": "#2a3f5f"
            },
            "baxis": {
             "endlinecolor": "#2a3f5f",
             "gridcolor": "white",
             "linecolor": "white",
             "minorgridcolor": "white",
             "startlinecolor": "#2a3f5f"
            },
            "type": "carpet"
           }
          ],
          "choropleth": [
           {
            "colorbar": {
             "outlinewidth": 0,
             "ticks": ""
            },
            "type": "choropleth"
           }
          ],
          "contour": [
           {
            "colorbar": {
             "outlinewidth": 0,
             "ticks": ""
            },
            "colorscale": [
             [
              0,
              "#0d0887"
             ],
             [
              0.1111111111111111,
              "#46039f"
             ],
             [
              0.2222222222222222,
              "#7201a8"
             ],
             [
              0.3333333333333333,
              "#9c179e"
             ],
             [
              0.4444444444444444,
              "#bd3786"
             ],
             [
              0.5555555555555556,
              "#d8576b"
             ],
             [
              0.6666666666666666,
              "#ed7953"
             ],
             [
              0.7777777777777778,
              "#fb9f3a"
             ],
             [
              0.8888888888888888,
              "#fdca26"
             ],
             [
              1,
              "#f0f921"
             ]
            ],
            "type": "contour"
           }
          ],
          "contourcarpet": [
           {
            "colorbar": {
             "outlinewidth": 0,
             "ticks": ""
            },
            "type": "contourcarpet"
           }
          ],
          "heatmap": [
           {
            "colorbar": {
             "outlinewidth": 0,
             "ticks": ""
            },
            "colorscale": [
             [
              0,
              "#0d0887"
             ],
             [
              0.1111111111111111,
              "#46039f"
             ],
             [
              0.2222222222222222,
              "#7201a8"
             ],
             [
              0.3333333333333333,
              "#9c179e"
             ],
             [
              0.4444444444444444,
              "#bd3786"
             ],
             [
              0.5555555555555556,
              "#d8576b"
             ],
             [
              0.6666666666666666,
              "#ed7953"
             ],
             [
              0.7777777777777778,
              "#fb9f3a"
             ],
             [
              0.8888888888888888,
              "#fdca26"
             ],
             [
              1,
              "#f0f921"
             ]
            ],
            "type": "heatmap"
           }
          ],
          "heatmapgl": [
           {
            "colorbar": {
             "outlinewidth": 0,
             "ticks": ""
            },
            "colorscale": [
             [
              0,
              "#0d0887"
             ],
             [
              0.1111111111111111,
              "#46039f"
             ],
             [
              0.2222222222222222,
              "#7201a8"
             ],
             [
              0.3333333333333333,
              "#9c179e"
             ],
             [
              0.4444444444444444,
              "#bd3786"
             ],
             [
              0.5555555555555556,
              "#d8576b"
             ],
             [
              0.6666666666666666,
              "#ed7953"
             ],
             [
              0.7777777777777778,
              "#fb9f3a"
             ],
             [
              0.8888888888888888,
              "#fdca26"
             ],
             [
              1,
              "#f0f921"
             ]
            ],
            "type": "heatmapgl"
           }
          ],
          "histogram": [
           {
            "marker": {
             "pattern": {
              "fillmode": "overlay",
              "size": 10,
              "solidity": 0.2
             }
            },
            "type": "histogram"
           }
          ],
          "histogram2d": [
           {
            "colorbar": {
             "outlinewidth": 0,
             "ticks": ""
            },
            "colorscale": [
             [
              0,
              "#0d0887"
             ],
             [
              0.1111111111111111,
              "#46039f"
             ],
             [
              0.2222222222222222,
              "#7201a8"
             ],
             [
              0.3333333333333333,
              "#9c179e"
             ],
             [
              0.4444444444444444,
              "#bd3786"
             ],
             [
              0.5555555555555556,
              "#d8576b"
             ],
             [
              0.6666666666666666,
              "#ed7953"
             ],
             [
              0.7777777777777778,
              "#fb9f3a"
             ],
             [
              0.8888888888888888,
              "#fdca26"
             ],
             [
              1,
              "#f0f921"
             ]
            ],
            "type": "histogram2d"
           }
          ],
          "histogram2dcontour": [
           {
            "colorbar": {
             "outlinewidth": 0,
             "ticks": ""
            },
            "colorscale": [
             [
              0,
              "#0d0887"
             ],
             [
              0.1111111111111111,
              "#46039f"
             ],
             [
              0.2222222222222222,
              "#7201a8"
             ],
             [
              0.3333333333333333,
              "#9c179e"
             ],
             [
              0.4444444444444444,
              "#bd3786"
             ],
             [
              0.5555555555555556,
              "#d8576b"
             ],
             [
              0.6666666666666666,
              "#ed7953"
             ],
             [
              0.7777777777777778,
              "#fb9f3a"
             ],
             [
              0.8888888888888888,
              "#fdca26"
             ],
             [
              1,
              "#f0f921"
             ]
            ],
            "type": "histogram2dcontour"
           }
          ],
          "mesh3d": [
           {
            "colorbar": {
             "outlinewidth": 0,
             "ticks": ""
            },
            "type": "mesh3d"
           }
          ],
          "parcoords": [
           {
            "line": {
             "colorbar": {
              "outlinewidth": 0,
              "ticks": ""
             }
            },
            "type": "parcoords"
           }
          ],
          "pie": [
           {
            "automargin": true,
            "type": "pie"
           }
          ],
          "scatter": [
           {
            "fillpattern": {
             "fillmode": "overlay",
             "size": 10,
             "solidity": 0.2
            },
            "type": "scatter"
           }
          ],
          "scatter3d": [
           {
            "line": {
             "colorbar": {
              "outlinewidth": 0,
              "ticks": ""
             }
            },
            "marker": {
             "colorbar": {
              "outlinewidth": 0,
              "ticks": ""
             }
            },
            "type": "scatter3d"
           }
          ],
          "scattercarpet": [
           {
            "marker": {
             "colorbar": {
              "outlinewidth": 0,
              "ticks": ""
             }
            },
            "type": "scattercarpet"
           }
          ],
          "scattergeo": [
           {
            "marker": {
             "colorbar": {
              "outlinewidth": 0,
              "ticks": ""
             }
            },
            "type": "scattergeo"
           }
          ],
          "scattergl": [
           {
            "marker": {
             "colorbar": {
              "outlinewidth": 0,
              "ticks": ""
             }
            },
            "type": "scattergl"
           }
          ],
          "scattermapbox": [
           {
            "marker": {
             "colorbar": {
              "outlinewidth": 0,
              "ticks": ""
             }
            },
            "type": "scattermapbox"
           }
          ],
          "scatterpolar": [
           {
            "marker": {
             "colorbar": {
              "outlinewidth": 0,
              "ticks": ""
             }
            },
            "type": "scatterpolar"
           }
          ],
          "scatterpolargl": [
           {
            "marker": {
             "colorbar": {
              "outlinewidth": 0,
              "ticks": ""
             }
            },
            "type": "scatterpolargl"
           }
          ],
          "scatterternary": [
           {
            "marker": {
             "colorbar": {
              "outlinewidth": 0,
              "ticks": ""
             }
            },
            "type": "scatterternary"
           }
          ],
          "surface": [
           {
            "colorbar": {
             "outlinewidth": 0,
             "ticks": ""
            },
            "colorscale": [
             [
              0,
              "#0d0887"
             ],
             [
              0.1111111111111111,
              "#46039f"
             ],
             [
              0.2222222222222222,
              "#7201a8"
             ],
             [
              0.3333333333333333,
              "#9c179e"
             ],
             [
              0.4444444444444444,
              "#bd3786"
             ],
             [
              0.5555555555555556,
              "#d8576b"
             ],
             [
              0.6666666666666666,
              "#ed7953"
             ],
             [
              0.7777777777777778,
              "#fb9f3a"
             ],
             [
              0.8888888888888888,
              "#fdca26"
             ],
             [
              1,
              "#f0f921"
             ]
            ],
            "type": "surface"
           }
          ],
          "table": [
           {
            "cells": {
             "fill": {
              "color": "#EBF0F8"
             },
             "line": {
              "color": "white"
             }
            },
            "header": {
             "fill": {
              "color": "#C8D4E3"
             },
             "line": {
              "color": "white"
             }
            },
            "type": "table"
           }
          ]
         },
         "layout": {
          "annotationdefaults": {
           "arrowcolor": "#2a3f5f",
           "arrowhead": 0,
           "arrowwidth": 1
          },
          "autotypenumbers": "strict",
          "coloraxis": {
           "colorbar": {
            "outlinewidth": 0,
            "ticks": ""
           }
          },
          "colorscale": {
           "diverging": [
            [
             0,
             "#8e0152"
            ],
            [
             0.1,
             "#c51b7d"
            ],
            [
             0.2,
             "#de77ae"
            ],
            [
             0.3,
             "#f1b6da"
            ],
            [
             0.4,
             "#fde0ef"
            ],
            [
             0.5,
             "#f7f7f7"
            ],
            [
             0.6,
             "#e6f5d0"
            ],
            [
             0.7,
             "#b8e186"
            ],
            [
             0.8,
             "#7fbc41"
            ],
            [
             0.9,
             "#4d9221"
            ],
            [
             1,
             "#276419"
            ]
           ],
           "sequential": [
            [
             0,
             "#0d0887"
            ],
            [
             0.1111111111111111,
             "#46039f"
            ],
            [
             0.2222222222222222,
             "#7201a8"
            ],
            [
             0.3333333333333333,
             "#9c179e"
            ],
            [
             0.4444444444444444,
             "#bd3786"
            ],
            [
             0.5555555555555556,
             "#d8576b"
            ],
            [
             0.6666666666666666,
             "#ed7953"
            ],
            [
             0.7777777777777778,
             "#fb9f3a"
            ],
            [
             0.8888888888888888,
             "#fdca26"
            ],
            [
             1,
             "#f0f921"
            ]
           ],
           "sequentialminus": [
            [
             0,
             "#0d0887"
            ],
            [
             0.1111111111111111,
             "#46039f"
            ],
            [
             0.2222222222222222,
             "#7201a8"
            ],
            [
             0.3333333333333333,
             "#9c179e"
            ],
            [
             0.4444444444444444,
             "#bd3786"
            ],
            [
             0.5555555555555556,
             "#d8576b"
            ],
            [
             0.6666666666666666,
             "#ed7953"
            ],
            [
             0.7777777777777778,
             "#fb9f3a"
            ],
            [
             0.8888888888888888,
             "#fdca26"
            ],
            [
             1,
             "#f0f921"
            ]
           ]
          },
          "colorway": [
           "#636efa",
           "#EF553B",
           "#00cc96",
           "#ab63fa",
           "#FFA15A",
           "#19d3f3",
           "#FF6692",
           "#B6E880",
           "#FF97FF",
           "#FECB52"
          ],
          "font": {
           "color": "#2a3f5f"
          },
          "geo": {
           "bgcolor": "white",
           "lakecolor": "white",
           "landcolor": "#E5ECF6",
           "showlakes": true,
           "showland": true,
           "subunitcolor": "white"
          },
          "hoverlabel": {
           "align": "left"
          },
          "hovermode": "closest",
          "mapbox": {
           "style": "light"
          },
          "paper_bgcolor": "white",
          "plot_bgcolor": "#E5ECF6",
          "polar": {
           "angularaxis": {
            "gridcolor": "white",
            "linecolor": "white",
            "ticks": ""
           },
           "bgcolor": "#E5ECF6",
           "radialaxis": {
            "gridcolor": "white",
            "linecolor": "white",
            "ticks": ""
           }
          },
          "scene": {
           "xaxis": {
            "backgroundcolor": "#E5ECF6",
            "gridcolor": "white",
            "gridwidth": 2,
            "linecolor": "white",
            "showbackground": true,
            "ticks": "",
            "zerolinecolor": "white"
           },
           "yaxis": {
            "backgroundcolor": "#E5ECF6",
            "gridcolor": "white",
            "gridwidth": 2,
            "linecolor": "white",
            "showbackground": true,
            "ticks": "",
            "zerolinecolor": "white"
           },
           "zaxis": {
            "backgroundcolor": "#E5ECF6",
            "gridcolor": "white",
            "gridwidth": 2,
            "linecolor": "white",
            "showbackground": true,
            "ticks": "",
            "zerolinecolor": "white"
           }
          },
          "shapedefaults": {
           "line": {
            "color": "#2a3f5f"
           }
          },
          "ternary": {
           "aaxis": {
            "gridcolor": "white",
            "linecolor": "white",
            "ticks": ""
           },
           "baxis": {
            "gridcolor": "white",
            "linecolor": "white",
            "ticks": ""
           },
           "bgcolor": "#E5ECF6",
           "caxis": {
            "gridcolor": "white",
            "linecolor": "white",
            "ticks": ""
           }
          },
          "title": {
           "x": 0.05
          },
          "xaxis": {
           "automargin": true,
           "gridcolor": "white",
           "linecolor": "white",
           "ticks": "",
           "title": {
            "standoff": 15
           },
           "zerolinecolor": "white",
           "zerolinewidth": 2
          },
          "yaxis": {
           "automargin": true,
           "gridcolor": "white",
           "linecolor": "white",
           "ticks": "",
           "title": {
            "standoff": 15
           },
           "zerolinecolor": "white",
           "zerolinewidth": 2
          }
         }
        },
        "title": {
         "text": "Average Value of Owner-Occupied Home by State 2020"
        }
       }
      }
     },
     "metadata": {},
     "output_type": "display_data"
    }
   ],
   "source": [
    "import plotly.express as px\n",
    "\n",
    "\n",
    "\n",
    "fig = px.choropleth(census_pd,locations= 'State Abbreviation',locationmode=\"USA-states\", color=\"Average Value of Owner-Occupied Home\",\n",
    "                           color_continuous_scale=\"Viridis\",\n",
    "                           range_color=(census_pd[\"Average Value of Owner-Occupied Home\"].min(), census_pd[\"Average Value of Owner-Occupied Home\"].max()),\n",
    "                           scope=\"usa\", title=\"Average Value of Owner-Occupied Home by State 2020\"\n",
    "                          ) \n",
    "\n",
    "fig.update_layout(margin={\"r\":50,\"t\":50,\"l\":50,\"b\":50})\n",
    "fig.show()"
   ]
  },
  {
   "cell_type": "code",
   "execution_count": null,
   "metadata": {},
   "outputs": [
    {
     "name": "stdout",
     "output_type": "stream",
     "text": [
      "Number of rows in the DataFrame: 52\n"
     ]
    },
    {
     "data": {
      "text/html": [
       "<div>\n",
       "<style scoped>\n",
       "    .dataframe tbody tr th:only-of-type {\n",
       "        vertical-align: middle;\n",
       "    }\n",
       "\n",
       "    .dataframe tbody tr th {\n",
       "        vertical-align: top;\n",
       "    }\n",
       "\n",
       "    .dataframe thead th {\n",
       "        text-align: right;\n",
       "    }\n",
       "</style>\n",
       "<table border=\"1\" class=\"dataframe\">\n",
       "  <thead>\n",
       "    <tr style=\"text-align: right;\">\n",
       "      <th></th>\n",
       "      <th>State Code</th>\n",
       "      <th>State Name</th>\n",
       "      <th>State Abbreviation</th>\n",
       "      <th>Population</th>\n",
       "      <th>Median Age</th>\n",
       "      <th>Household Income</th>\n",
       "      <th>Per Capita Income</th>\n",
       "      <th>Poverty Count</th>\n",
       "      <th>Poverty Rate</th>\n",
       "      <th>Average Value of Owner-Occupied Home</th>\n",
       "    </tr>\n",
       "  </thead>\n",
       "  <tbody>\n",
       "    <tr>\n",
       "      <th>0</th>\n",
       "      <td>01</td>\n",
       "      <td>Alabama</td>\n",
       "      <td>AL</td>\n",
       "      <td>4712651.0</td>\n",
       "      <td>37.5</td>\n",
       "      <td>42081.0</td>\n",
       "      <td>22984.0</td>\n",
       "      <td>786544.0</td>\n",
       "      <td>16.690054</td>\n",
       "      <td>117600.0</td>\n",
       "    </tr>\n",
       "    <tr>\n",
       "      <th>1</th>\n",
       "      <td>02</td>\n",
       "      <td>Alaska</td>\n",
       "      <td>AK</td>\n",
       "      <td>691189.0</td>\n",
       "      <td>33.8</td>\n",
       "      <td>66521.0</td>\n",
       "      <td>30726.0</td>\n",
       "      <td>64245.0</td>\n",
       "      <td>9.294853</td>\n",
       "      <td>229100.0</td>\n",
       "    </tr>\n",
       "    <tr>\n",
       "      <th>2</th>\n",
       "      <td>04</td>\n",
       "      <td>Arizona</td>\n",
       "      <td>AZ</td>\n",
       "      <td>6246816.0</td>\n",
       "      <td>35.5</td>\n",
       "      <td>50448.0</td>\n",
       "      <td>25680.0</td>\n",
       "      <td>933113.0</td>\n",
       "      <td>14.937418</td>\n",
       "      <td>215000.0</td>\n",
       "    </tr>\n",
       "    <tr>\n",
       "      <th>3</th>\n",
       "      <td>05</td>\n",
       "      <td>Arkansas</td>\n",
       "      <td>AR</td>\n",
       "      <td>2872684.0</td>\n",
       "      <td>37.2</td>\n",
       "      <td>39267.0</td>\n",
       "      <td>21274.0</td>\n",
       "      <td>502684.0</td>\n",
       "      <td>17.498757</td>\n",
       "      <td>102300.0</td>\n",
       "    </tr>\n",
       "    <tr>\n",
       "      <th>4</th>\n",
       "      <td>06</td>\n",
       "      <td>California</td>\n",
       "      <td>CA</td>\n",
       "      <td>36637290.0</td>\n",
       "      <td>34.9</td>\n",
       "      <td>60883.0</td>\n",
       "      <td>29188.0</td>\n",
       "      <td>4919945.0</td>\n",
       "      <td>13.428791</td>\n",
       "      <td>458500.0</td>\n",
       "    </tr>\n",
       "    <tr>\n",
       "      <th>5</th>\n",
       "      <td>08</td>\n",
       "      <td>Colorado</td>\n",
       "      <td>CO</td>\n",
       "      <td>4887061.0</td>\n",
       "      <td>35.8</td>\n",
       "      <td>56456.0</td>\n",
       "      <td>30151.0</td>\n",
       "      <td>584184.0</td>\n",
       "      <td>11.953688</td>\n",
       "      <td>236600.0</td>\n",
       "    </tr>\n",
       "    <tr>\n",
       "      <th>6</th>\n",
       "      <td>09</td>\n",
       "      <td>Connecticut</td>\n",
       "      <td>CT</td>\n",
       "      <td>3545837.0</td>\n",
       "      <td>39.5</td>\n",
       "      <td>67740.0</td>\n",
       "      <td>36775.0</td>\n",
       "      <td>314306.0</td>\n",
       "      <td>8.864085</td>\n",
       "      <td>296500.0</td>\n",
       "    </tr>\n",
       "    <tr>\n",
       "      <th>7</th>\n",
       "      <td>10</td>\n",
       "      <td>Delaware</td>\n",
       "      <td>DE</td>\n",
       "      <td>881278.0</td>\n",
       "      <td>38.3</td>\n",
       "      <td>57599.0</td>\n",
       "      <td>29007.0</td>\n",
       "      <td>93857.0</td>\n",
       "      <td>10.650101</td>\n",
       "      <td>242300.0</td>\n",
       "    </tr>\n",
       "    <tr>\n",
       "      <th>8</th>\n",
       "      <td>11</td>\n",
       "      <td>District of Columbia</td>\n",
       "      <td>DC</td>\n",
       "      <td>584400.0</td>\n",
       "      <td>34.3</td>\n",
       "      <td>58526.0</td>\n",
       "      <td>42078.0</td>\n",
       "      <td>101767.0</td>\n",
       "      <td>17.413929</td>\n",
       "      <td>443300.0</td>\n",
       "    </tr>\n",
       "    <tr>\n",
       "      <th>9</th>\n",
       "      <td>12</td>\n",
       "      <td>Florida</td>\n",
       "      <td>FL</td>\n",
       "      <td>18511620.0</td>\n",
       "      <td>40.3</td>\n",
       "      <td>47661.0</td>\n",
       "      <td>26551.0</td>\n",
       "      <td>2502365.0</td>\n",
       "      <td>13.517807</td>\n",
       "      <td>205600.0</td>\n",
       "    </tr>\n",
       "    <tr>\n",
       "      <th>10</th>\n",
       "      <td>13</td>\n",
       "      <td>Georgia</td>\n",
       "      <td>GA</td>\n",
       "      <td>9468815.0</td>\n",
       "      <td>35.0</td>\n",
       "      <td>49347.0</td>\n",
       "      <td>25134.0</td>\n",
       "      <td>1445752.0</td>\n",
       "      <td>15.268563</td>\n",
       "      <td>161400.0</td>\n",
       "    </tr>\n",
       "    <tr>\n",
       "      <th>11</th>\n",
       "      <td>15</td>\n",
       "      <td>Hawaii</td>\n",
       "      <td>HI</td>\n",
       "      <td>1333591.0</td>\n",
       "      <td>38.2</td>\n",
       "      <td>66420.0</td>\n",
       "      <td>28882.0</td>\n",
       "      <td>124627.0</td>\n",
       "      <td>9.345219</td>\n",
       "      <td>537400.0</td>\n",
       "    </tr>\n",
       "    <tr>\n",
       "      <th>12</th>\n",
       "      <td>16</td>\n",
       "      <td>Idaho</td>\n",
       "      <td>ID</td>\n",
       "      <td>1526797.0</td>\n",
       "      <td>34.4</td>\n",
       "      <td>46423.0</td>\n",
       "      <td>22518.0</td>\n",
       "      <td>203177.0</td>\n",
       "      <td>13.307401</td>\n",
       "      <td>172700.0</td>\n",
       "    </tr>\n",
       "    <tr>\n",
       "      <th>13</th>\n",
       "      <td>17</td>\n",
       "      <td>Illinois</td>\n",
       "      <td>IL</td>\n",
       "      <td>12745359.0</td>\n",
       "      <td>36.2</td>\n",
       "      <td>55735.0</td>\n",
       "      <td>28782.0</td>\n",
       "      <td>1572048.0</td>\n",
       "      <td>12.334278</td>\n",
       "      <td>202500.0</td>\n",
       "    </tr>\n",
       "    <tr>\n",
       "      <th>14</th>\n",
       "      <td>18</td>\n",
       "      <td>Indiana</td>\n",
       "      <td>IN</td>\n",
       "      <td>6417398.0</td>\n",
       "      <td>36.6</td>\n",
       "      <td>47697.0</td>\n",
       "      <td>24058.0</td>\n",
       "      <td>842540.0</td>\n",
       "      <td>13.128997</td>\n",
       "      <td>123000.0</td>\n",
       "    </tr>\n",
       "    <tr>\n",
       "      <th>15</th>\n",
       "      <td>19</td>\n",
       "      <td>Iowa</td>\n",
       "      <td>IA</td>\n",
       "      <td>3016267.0</td>\n",
       "      <td>38.0</td>\n",
       "      <td>48872.0</td>\n",
       "      <td>25335.0</td>\n",
       "      <td>338263.0</td>\n",
       "      <td>11.214624</td>\n",
       "      <td>119200.0</td>\n",
       "    </tr>\n",
       "    <tr>\n",
       "      <th>16</th>\n",
       "      <td>20</td>\n",
       "      <td>Kansas</td>\n",
       "      <td>KS</td>\n",
       "      <td>2809329.0</td>\n",
       "      <td>36.1</td>\n",
       "      <td>49424.0</td>\n",
       "      <td>25907.0</td>\n",
       "      <td>338792.0</td>\n",
       "      <td>12.059535</td>\n",
       "      <td>122600.0</td>\n",
       "    </tr>\n",
       "    <tr>\n",
       "      <th>17</th>\n",
       "      <td>21</td>\n",
       "      <td>Kentucky</td>\n",
       "      <td>KY</td>\n",
       "      <td>4285828.0</td>\n",
       "      <td>37.7</td>\n",
       "      <td>41576.0</td>\n",
       "      <td>22515.0</td>\n",
       "      <td>735782.0</td>\n",
       "      <td>17.167791</td>\n",
       "      <td>116800.0</td>\n",
       "    </tr>\n",
       "    <tr>\n",
       "      <th>18</th>\n",
       "      <td>22</td>\n",
       "      <td>Louisiana</td>\n",
       "      <td>LA</td>\n",
       "      <td>4429940.0</td>\n",
       "      <td>35.9</td>\n",
       "      <td>43445.0</td>\n",
       "      <td>23094.0</td>\n",
       "      <td>780359.0</td>\n",
       "      <td>17.615566</td>\n",
       "      <td>130000.0</td>\n",
       "    </tr>\n",
       "    <tr>\n",
       "      <th>19</th>\n",
       "      <td>23</td>\n",
       "      <td>Maine</td>\n",
       "      <td>ME</td>\n",
       "      <td>1327665.0</td>\n",
       "      <td>42.0</td>\n",
       "      <td>46933.0</td>\n",
       "      <td>25385.0</td>\n",
       "      <td>162358.0</td>\n",
       "      <td>12.228838</td>\n",
       "      <td>176200.0</td>\n",
       "    </tr>\n",
       "    <tr>\n",
       "      <th>20</th>\n",
       "      <td>24</td>\n",
       "      <td>Maryland</td>\n",
       "      <td>MD</td>\n",
       "      <td>5696423.0</td>\n",
       "      <td>37.6</td>\n",
       "      <td>70647.0</td>\n",
       "      <td>34849.0</td>\n",
       "      <td>476732.0</td>\n",
       "      <td>8.368971</td>\n",
       "      <td>329400.0</td>\n",
       "    </tr>\n",
       "    <tr>\n",
       "      <th>21</th>\n",
       "      <td>25</td>\n",
       "      <td>Massachusetts</td>\n",
       "      <td>MA</td>\n",
       "      <td>6477096.0</td>\n",
       "      <td>38.7</td>\n",
       "      <td>64509.0</td>\n",
       "      <td>33966.0</td>\n",
       "      <td>658391.0</td>\n",
       "      <td>10.164910</td>\n",
       "      <td>352300.0</td>\n",
       "    </tr>\n",
       "    <tr>\n",
       "      <th>22</th>\n",
       "      <td>26</td>\n",
       "      <td>Michigan</td>\n",
       "      <td>MI</td>\n",
       "      <td>9952687.0</td>\n",
       "      <td>38.1</td>\n",
       "      <td>48432.0</td>\n",
       "      <td>25135.0</td>\n",
       "      <td>1444004.0</td>\n",
       "      <td>14.508685</td>\n",
       "      <td>144200.0</td>\n",
       "    </tr>\n",
       "    <tr>\n",
       "      <th>23</th>\n",
       "      <td>27</td>\n",
       "      <td>Minnesota</td>\n",
       "      <td>MN</td>\n",
       "      <td>5241914.0</td>\n",
       "      <td>37.1</td>\n",
       "      <td>57243.0</td>\n",
       "      <td>29582.0</td>\n",
       "      <td>542133.0</td>\n",
       "      <td>10.342272</td>\n",
       "      <td>206200.0</td>\n",
       "    </tr>\n",
       "    <tr>\n",
       "      <th>24</th>\n",
       "      <td>28</td>\n",
       "      <td>Mississippi</td>\n",
       "      <td>MS</td>\n",
       "      <td>2941991.0</td>\n",
       "      <td>35.8</td>\n",
       "      <td>37881.0</td>\n",
       "      <td>19977.0</td>\n",
       "      <td>604272.0</td>\n",
       "      <td>20.539560</td>\n",
       "      <td>96500.0</td>\n",
       "    </tr>\n",
       "    <tr>\n",
       "      <th>25</th>\n",
       "      <td>29</td>\n",
       "      <td>Missouri</td>\n",
       "      <td>MO</td>\n",
       "      <td>5922314.0</td>\n",
       "      <td>37.6</td>\n",
       "      <td>46262.0</td>\n",
       "      <td>24724.0</td>\n",
       "      <td>802596.0</td>\n",
       "      <td>13.552068</td>\n",
       "      <td>137700.0</td>\n",
       "    </tr>\n",
       "    <tr>\n",
       "      <th>26</th>\n",
       "      <td>30</td>\n",
       "      <td>Montana</td>\n",
       "      <td>MT</td>\n",
       "      <td>973739.0</td>\n",
       "      <td>39.7</td>\n",
       "      <td>43872.0</td>\n",
       "      <td>23836.0</td>\n",
       "      <td>138109.0</td>\n",
       "      <td>14.183369</td>\n",
       "      <td>173300.0</td>\n",
       "    </tr>\n",
       "    <tr>\n",
       "      <th>27</th>\n",
       "      <td>31</td>\n",
       "      <td>Nebraska</td>\n",
       "      <td>NE</td>\n",
       "      <td>1799125.0</td>\n",
       "      <td>36.2</td>\n",
       "      <td>49342.0</td>\n",
       "      <td>25229.0</td>\n",
       "      <td>206227.0</td>\n",
       "      <td>11.462628</td>\n",
       "      <td>123900.0</td>\n",
       "    </tr>\n",
       "    <tr>\n",
       "      <th>28</th>\n",
       "      <td>32</td>\n",
       "      <td>Nevada</td>\n",
       "      <td>NV</td>\n",
       "      <td>2633331.0</td>\n",
       "      <td>35.9</td>\n",
       "      <td>55726.0</td>\n",
       "      <td>27589.0</td>\n",
       "      <td>308426.0</td>\n",
       "      <td>11.712390</td>\n",
       "      <td>254200.0</td>\n",
       "    </tr>\n",
       "    <tr>\n",
       "      <th>29</th>\n",
       "      <td>33</td>\n",
       "      <td>New Hampshire</td>\n",
       "      <td>NH</td>\n",
       "      <td>1313939.0</td>\n",
       "      <td>40.3</td>\n",
       "      <td>63277.0</td>\n",
       "      <td>31422.0</td>\n",
       "      <td>99527.0</td>\n",
       "      <td>7.574705</td>\n",
       "      <td>253200.0</td>\n",
       "    </tr>\n",
       "    <tr>\n",
       "      <th>30</th>\n",
       "      <td>34</td>\n",
       "      <td>New Jersey</td>\n",
       "      <td>NJ</td>\n",
       "      <td>8721577.0</td>\n",
       "      <td>38.5</td>\n",
       "      <td>69811.0</td>\n",
       "      <td>34858.0</td>\n",
       "      <td>777968.0</td>\n",
       "      <td>8.920038</td>\n",
       "      <td>357000.0</td>\n",
       "    </tr>\n",
       "    <tr>\n",
       "      <th>31</th>\n",
       "      <td>35</td>\n",
       "      <td>New Mexico</td>\n",
       "      <td>NM</td>\n",
       "      <td>2013122.0</td>\n",
       "      <td>36.4</td>\n",
       "      <td>43820.0</td>\n",
       "      <td>22966.0</td>\n",
       "      <td>361771.0</td>\n",
       "      <td>17.970645</td>\n",
       "      <td>158400.0</td>\n",
       "    </tr>\n",
       "    <tr>\n",
       "      <th>32</th>\n",
       "      <td>36</td>\n",
       "      <td>New York</td>\n",
       "      <td>NY</td>\n",
       "      <td>19229752.0</td>\n",
       "      <td>37.7</td>\n",
       "      <td>55603.0</td>\n",
       "      <td>30948.0</td>\n",
       "      <td>2650166.0</td>\n",
       "      <td>13.781592</td>\n",
       "      <td>303900.0</td>\n",
       "    </tr>\n",
       "    <tr>\n",
       "      <th>33</th>\n",
       "      <td>37</td>\n",
       "      <td>North Carolina</td>\n",
       "      <td>NC</td>\n",
       "      <td>9271178.0</td>\n",
       "      <td>37.1</td>\n",
       "      <td>45570.0</td>\n",
       "      <td>24745.0</td>\n",
       "      <td>1399945.0</td>\n",
       "      <td>15.099969</td>\n",
       "      <td>149100.0</td>\n",
       "    </tr>\n",
       "    <tr>\n",
       "      <th>34</th>\n",
       "      <td>38</td>\n",
       "      <td>North Dakota</td>\n",
       "      <td>ND</td>\n",
       "      <td>659858.0</td>\n",
       "      <td>37.2</td>\n",
       "      <td>46781.0</td>\n",
       "      <td>25803.0</td>\n",
       "      <td>78405.0</td>\n",
       "      <td>11.882102</td>\n",
       "      <td>111300.0</td>\n",
       "    </tr>\n",
       "    <tr>\n",
       "      <th>35</th>\n",
       "      <td>39</td>\n",
       "      <td>Ohio</td>\n",
       "      <td>OH</td>\n",
       "      <td>11512431.0</td>\n",
       "      <td>38.3</td>\n",
       "      <td>47358.0</td>\n",
       "      <td>25113.0</td>\n",
       "      <td>1586292.0</td>\n",
       "      <td>13.778949</td>\n",
       "      <td>136400.0</td>\n",
       "    </tr>\n",
       "    <tr>\n",
       "      <th>36</th>\n",
       "      <td>40</td>\n",
       "      <td>Oklahoma</td>\n",
       "      <td>OK</td>\n",
       "      <td>3675339.0</td>\n",
       "      <td>36.3</td>\n",
       "      <td>42979.0</td>\n",
       "      <td>23094.0</td>\n",
       "      <td>577247.0</td>\n",
       "      <td>15.705953</td>\n",
       "      <td>104300.0</td>\n",
       "    </tr>\n",
       "    <tr>\n",
       "      <th>37</th>\n",
       "      <td>41</td>\n",
       "      <td>Oregon</td>\n",
       "      <td>OR</td>\n",
       "      <td>3761925.0</td>\n",
       "      <td>38.1</td>\n",
       "      <td>49260.0</td>\n",
       "      <td>26171.0</td>\n",
       "      <td>516271.0</td>\n",
       "      <td>13.723586</td>\n",
       "      <td>252600.0</td>\n",
       "    </tr>\n",
       "    <tr>\n",
       "      <th>38</th>\n",
       "      <td>42</td>\n",
       "      <td>Pennsylvania</td>\n",
       "      <td>PA</td>\n",
       "      <td>12612705.0</td>\n",
       "      <td>39.8</td>\n",
       "      <td>50398.0</td>\n",
       "      <td>27049.0</td>\n",
       "      <td>1509858.0</td>\n",
       "      <td>11.970929</td>\n",
       "      <td>159300.0</td>\n",
       "    </tr>\n",
       "    <tr>\n",
       "      <th>39</th>\n",
       "      <td>44</td>\n",
       "      <td>Rhode Island</td>\n",
       "      <td>RI</td>\n",
       "      <td>1056389.0</td>\n",
       "      <td>38.9</td>\n",
       "      <td>54902.0</td>\n",
       "      <td>28707.0</td>\n",
       "      <td>123396.0</td>\n",
       "      <td>11.680924</td>\n",
       "      <td>279300.0</td>\n",
       "    </tr>\n",
       "    <tr>\n",
       "      <th>40</th>\n",
       "      <td>45</td>\n",
       "      <td>South Carolina</td>\n",
       "      <td>SC</td>\n",
       "      <td>4511428.0</td>\n",
       "      <td>37.4</td>\n",
       "      <td>43939.0</td>\n",
       "      <td>23443.0</td>\n",
       "      <td>716537.0</td>\n",
       "      <td>15.882709</td>\n",
       "      <td>134100.0</td>\n",
       "    </tr>\n",
       "    <tr>\n",
       "      <th>41</th>\n",
       "      <td>46</td>\n",
       "      <td>South Dakota</td>\n",
       "      <td>SD</td>\n",
       "      <td>799462.0</td>\n",
       "      <td>37.2</td>\n",
       "      <td>46369.0</td>\n",
       "      <td>24110.0</td>\n",
       "      <td>105819.0</td>\n",
       "      <td>13.236276</td>\n",
       "      <td>122200.0</td>\n",
       "    </tr>\n",
       "    <tr>\n",
       "      <th>42</th>\n",
       "      <td>47</td>\n",
       "      <td>Tennessee</td>\n",
       "      <td>TN</td>\n",
       "      <td>6234968.0</td>\n",
       "      <td>37.6</td>\n",
       "      <td>43314.0</td>\n",
       "      <td>23722.0</td>\n",
       "      <td>1002467.0</td>\n",
       "      <td>16.078142</td>\n",
       "      <td>134100.0</td>\n",
       "    </tr>\n",
       "    <tr>\n",
       "      <th>43</th>\n",
       "      <td>48</td>\n",
       "      <td>Texas</td>\n",
       "      <td>TX</td>\n",
       "      <td>24311891.0</td>\n",
       "      <td>33.4</td>\n",
       "      <td>49646.0</td>\n",
       "      <td>24870.0</td>\n",
       "      <td>3972054.0</td>\n",
       "      <td>16.337906</td>\n",
       "      <td>123500.0</td>\n",
       "    </tr>\n",
       "    <tr>\n",
       "      <th>44</th>\n",
       "      <td>49</td>\n",
       "      <td>Utah</td>\n",
       "      <td>UT</td>\n",
       "      <td>2657236.0</td>\n",
       "      <td>28.8</td>\n",
       "      <td>56330.0</td>\n",
       "      <td>23139.0</td>\n",
       "      <td>283536.0</td>\n",
       "      <td>10.670336</td>\n",
       "      <td>218100.0</td>\n",
       "    </tr>\n",
       "    <tr>\n",
       "      <th>45</th>\n",
       "      <td>50</td>\n",
       "      <td>Vermont</td>\n",
       "      <td>VT</td>\n",
       "      <td>624258.0</td>\n",
       "      <td>41.0</td>\n",
       "      <td>51841.0</td>\n",
       "      <td>27478.0</td>\n",
       "      <td>66726.0</td>\n",
       "      <td>10.688850</td>\n",
       "      <td>208400.0</td>\n",
       "    </tr>\n",
       "    <tr>\n",
       "      <th>46</th>\n",
       "      <td>51</td>\n",
       "      <td>Virginia</td>\n",
       "      <td>VA</td>\n",
       "      <td>7841754.0</td>\n",
       "      <td>37.2</td>\n",
       "      <td>61406.0</td>\n",
       "      <td>32145.0</td>\n",
       "      <td>781516.0</td>\n",
       "      <td>9.966087</td>\n",
       "      <td>255100.0</td>\n",
       "    </tr>\n",
       "    <tr>\n",
       "      <th>47</th>\n",
       "      <td>53</td>\n",
       "      <td>Washington</td>\n",
       "      <td>WA</td>\n",
       "      <td>6561297.0</td>\n",
       "      <td>37.0</td>\n",
       "      <td>57244.0</td>\n",
       "      <td>29733.0</td>\n",
       "      <td>780009.0</td>\n",
       "      <td>11.888031</td>\n",
       "      <td>285400.0</td>\n",
       "    </tr>\n",
       "    <tr>\n",
       "      <th>48</th>\n",
       "      <td>54</td>\n",
       "      <td>West Virginia</td>\n",
       "      <td>WV</td>\n",
       "      <td>1840802.0</td>\n",
       "      <td>41.1</td>\n",
       "      <td>38380.0</td>\n",
       "      <td>21232.0</td>\n",
       "      <td>310495.0</td>\n",
       "      <td>16.867376</td>\n",
       "      <td>94500.0</td>\n",
       "    </tr>\n",
       "    <tr>\n",
       "      <th>49</th>\n",
       "      <td>55</td>\n",
       "      <td>Wisconsin</td>\n",
       "      <td>WI</td>\n",
       "      <td>5637947.0</td>\n",
       "      <td>38.1</td>\n",
       "      <td>51598.0</td>\n",
       "      <td>26624.0</td>\n",
       "      <td>637613.0</td>\n",
       "      <td>11.309312</td>\n",
       "      <td>169000.0</td>\n",
       "    </tr>\n",
       "    <tr>\n",
       "      <th>50</th>\n",
       "      <td>56</td>\n",
       "      <td>Wyoming</td>\n",
       "      <td>WY</td>\n",
       "      <td>545579.0</td>\n",
       "      <td>37.0</td>\n",
       "      <td>53802.0</td>\n",
       "      <td>27860.0</td>\n",
       "      <td>52297.0</td>\n",
       "      <td>9.585596</td>\n",
       "      <td>174000.0</td>\n",
       "    </tr>\n",
       "    <tr>\n",
       "      <th>51</th>\n",
       "      <td>72</td>\n",
       "      <td>Puerto Rico</td>\n",
       "      <td>None</td>\n",
       "      <td>3762322.0</td>\n",
       "      <td>35.9</td>\n",
       "      <td>18791.0</td>\n",
       "      <td>10355.0</td>\n",
       "      <td>1680370.0</td>\n",
       "      <td>44.663110</td>\n",
       "      <td>112600.0</td>\n",
       "    </tr>\n",
       "  </tbody>\n",
       "</table>\n",
       "</div>"
      ],
      "text/plain": [
       "   State Code            State Name State Abbreviation  Population  \\\n",
       "0          01               Alabama                 AL   4712651.0   \n",
       "1          02                Alaska                 AK    691189.0   \n",
       "2          04               Arizona                 AZ   6246816.0   \n",
       "3          05              Arkansas                 AR   2872684.0   \n",
       "4          06            California                 CA  36637290.0   \n",
       "5          08              Colorado                 CO   4887061.0   \n",
       "6          09           Connecticut                 CT   3545837.0   \n",
       "7          10              Delaware                 DE    881278.0   \n",
       "8          11  District of Columbia                 DC    584400.0   \n",
       "9          12               Florida                 FL  18511620.0   \n",
       "10         13               Georgia                 GA   9468815.0   \n",
       "11         15                Hawaii                 HI   1333591.0   \n",
       "12         16                 Idaho                 ID   1526797.0   \n",
       "13         17              Illinois                 IL  12745359.0   \n",
       "14         18               Indiana                 IN   6417398.0   \n",
       "15         19                  Iowa                 IA   3016267.0   \n",
       "16         20                Kansas                 KS   2809329.0   \n",
       "17         21              Kentucky                 KY   4285828.0   \n",
       "18         22             Louisiana                 LA   4429940.0   \n",
       "19         23                 Maine                 ME   1327665.0   \n",
       "20         24              Maryland                 MD   5696423.0   \n",
       "21         25         Massachusetts                 MA   6477096.0   \n",
       "22         26              Michigan                 MI   9952687.0   \n",
       "23         27             Minnesota                 MN   5241914.0   \n",
       "24         28           Mississippi                 MS   2941991.0   \n",
       "25         29              Missouri                 MO   5922314.0   \n",
       "26         30               Montana                 MT    973739.0   \n",
       "27         31              Nebraska                 NE   1799125.0   \n",
       "28         32                Nevada                 NV   2633331.0   \n",
       "29         33         New Hampshire                 NH   1313939.0   \n",
       "30         34            New Jersey                 NJ   8721577.0   \n",
       "31         35            New Mexico                 NM   2013122.0   \n",
       "32         36              New York                 NY  19229752.0   \n",
       "33         37        North Carolina                 NC   9271178.0   \n",
       "34         38          North Dakota                 ND    659858.0   \n",
       "35         39                  Ohio                 OH  11512431.0   \n",
       "36         40              Oklahoma                 OK   3675339.0   \n",
       "37         41                Oregon                 OR   3761925.0   \n",
       "38         42          Pennsylvania                 PA  12612705.0   \n",
       "39         44          Rhode Island                 RI   1056389.0   \n",
       "40         45        South Carolina                 SC   4511428.0   \n",
       "41         46          South Dakota                 SD    799462.0   \n",
       "42         47             Tennessee                 TN   6234968.0   \n",
       "43         48                 Texas                 TX  24311891.0   \n",
       "44         49                  Utah                 UT   2657236.0   \n",
       "45         50               Vermont                 VT    624258.0   \n",
       "46         51              Virginia                 VA   7841754.0   \n",
       "47         53            Washington                 WA   6561297.0   \n",
       "48         54         West Virginia                 WV   1840802.0   \n",
       "49         55             Wisconsin                 WI   5637947.0   \n",
       "50         56               Wyoming                 WY    545579.0   \n",
       "51         72           Puerto Rico               None   3762322.0   \n",
       "\n",
       "    Median Age  Household Income  Per Capita Income  Poverty Count  \\\n",
       "0         37.5           42081.0            22984.0       786544.0   \n",
       "1         33.8           66521.0            30726.0        64245.0   \n",
       "2         35.5           50448.0            25680.0       933113.0   \n",
       "3         37.2           39267.0            21274.0       502684.0   \n",
       "4         34.9           60883.0            29188.0      4919945.0   \n",
       "5         35.8           56456.0            30151.0       584184.0   \n",
       "6         39.5           67740.0            36775.0       314306.0   \n",
       "7         38.3           57599.0            29007.0        93857.0   \n",
       "8         34.3           58526.0            42078.0       101767.0   \n",
       "9         40.3           47661.0            26551.0      2502365.0   \n",
       "10        35.0           49347.0            25134.0      1445752.0   \n",
       "11        38.2           66420.0            28882.0       124627.0   \n",
       "12        34.4           46423.0            22518.0       203177.0   \n",
       "13        36.2           55735.0            28782.0      1572048.0   \n",
       "14        36.6           47697.0            24058.0       842540.0   \n",
       "15        38.0           48872.0            25335.0       338263.0   \n",
       "16        36.1           49424.0            25907.0       338792.0   \n",
       "17        37.7           41576.0            22515.0       735782.0   \n",
       "18        35.9           43445.0            23094.0       780359.0   \n",
       "19        42.0           46933.0            25385.0       162358.0   \n",
       "20        37.6           70647.0            34849.0       476732.0   \n",
       "21        38.7           64509.0            33966.0       658391.0   \n",
       "22        38.1           48432.0            25135.0      1444004.0   \n",
       "23        37.1           57243.0            29582.0       542133.0   \n",
       "24        35.8           37881.0            19977.0       604272.0   \n",
       "25        37.6           46262.0            24724.0       802596.0   \n",
       "26        39.7           43872.0            23836.0       138109.0   \n",
       "27        36.2           49342.0            25229.0       206227.0   \n",
       "28        35.9           55726.0            27589.0       308426.0   \n",
       "29        40.3           63277.0            31422.0        99527.0   \n",
       "30        38.5           69811.0            34858.0       777968.0   \n",
       "31        36.4           43820.0            22966.0       361771.0   \n",
       "32        37.7           55603.0            30948.0      2650166.0   \n",
       "33        37.1           45570.0            24745.0      1399945.0   \n",
       "34        37.2           46781.0            25803.0        78405.0   \n",
       "35        38.3           47358.0            25113.0      1586292.0   \n",
       "36        36.3           42979.0            23094.0       577247.0   \n",
       "37        38.1           49260.0            26171.0       516271.0   \n",
       "38        39.8           50398.0            27049.0      1509858.0   \n",
       "39        38.9           54902.0            28707.0       123396.0   \n",
       "40        37.4           43939.0            23443.0       716537.0   \n",
       "41        37.2           46369.0            24110.0       105819.0   \n",
       "42        37.6           43314.0            23722.0      1002467.0   \n",
       "43        33.4           49646.0            24870.0      3972054.0   \n",
       "44        28.8           56330.0            23139.0       283536.0   \n",
       "45        41.0           51841.0            27478.0        66726.0   \n",
       "46        37.2           61406.0            32145.0       781516.0   \n",
       "47        37.0           57244.0            29733.0       780009.0   \n",
       "48        41.1           38380.0            21232.0       310495.0   \n",
       "49        38.1           51598.0            26624.0       637613.0   \n",
       "50        37.0           53802.0            27860.0        52297.0   \n",
       "51        35.9           18791.0            10355.0      1680370.0   \n",
       "\n",
       "    Poverty Rate  Average Value of Owner-Occupied Home  \n",
       "0      16.690054                              117600.0  \n",
       "1       9.294853                              229100.0  \n",
       "2      14.937418                              215000.0  \n",
       "3      17.498757                              102300.0  \n",
       "4      13.428791                              458500.0  \n",
       "5      11.953688                              236600.0  \n",
       "6       8.864085                              296500.0  \n",
       "7      10.650101                              242300.0  \n",
       "8      17.413929                              443300.0  \n",
       "9      13.517807                              205600.0  \n",
       "10     15.268563                              161400.0  \n",
       "11      9.345219                              537400.0  \n",
       "12     13.307401                              172700.0  \n",
       "13     12.334278                              202500.0  \n",
       "14     13.128997                              123000.0  \n",
       "15     11.214624                              119200.0  \n",
       "16     12.059535                              122600.0  \n",
       "17     17.167791                              116800.0  \n",
       "18     17.615566                              130000.0  \n",
       "19     12.228838                              176200.0  \n",
       "20      8.368971                              329400.0  \n",
       "21     10.164910                              352300.0  \n",
       "22     14.508685                              144200.0  \n",
       "23     10.342272                              206200.0  \n",
       "24     20.539560                               96500.0  \n",
       "25     13.552068                              137700.0  \n",
       "26     14.183369                              173300.0  \n",
       "27     11.462628                              123900.0  \n",
       "28     11.712390                              254200.0  \n",
       "29      7.574705                              253200.0  \n",
       "30      8.920038                              357000.0  \n",
       "31     17.970645                              158400.0  \n",
       "32     13.781592                              303900.0  \n",
       "33     15.099969                              149100.0  \n",
       "34     11.882102                              111300.0  \n",
       "35     13.778949                              136400.0  \n",
       "36     15.705953                              104300.0  \n",
       "37     13.723586                              252600.0  \n",
       "38     11.970929                              159300.0  \n",
       "39     11.680924                              279300.0  \n",
       "40     15.882709                              134100.0  \n",
       "41     13.236276                              122200.0  \n",
       "42     16.078142                              134100.0  \n",
       "43     16.337906                              123500.0  \n",
       "44     10.670336                              218100.0  \n",
       "45     10.688850                              208400.0  \n",
       "46      9.966087                              255100.0  \n",
       "47     11.888031                              285400.0  \n",
       "48     16.867376                               94500.0  \n",
       "49     11.309312                              169000.0  \n",
       "50      9.585596                              174000.0  \n",
       "51     44.663110                              112600.0  "
      ]
     },
     "execution_count": 138,
     "metadata": {},
     "output_type": "execute_result"
    }
   ],
   "source": [
    "#repeat the same process for 2010\n",
    "\n",
    "import requests\n",
    "import pandas as pd\n",
    "from census import Census\n",
    "\n",
    "api_key = 'a61f540cf4897b56d88a369afc0e65de6fa6c5e8'\n",
    "\n",
    "c = Census(\n",
    "    api_key,\n",
    "    year=2010\n",
    ")\n",
    "\n",
    "# Run Census Search to retrieve data for all states (2010 ACS5 Census)\n",
    "census_data = c.acs5.get(\n",
    "    (\n",
    "        \"NAME\",\n",
    "        \"B19013_001E\",\n",
    "        \"B01003_001E\",\n",
    "        \"B01002_001E\",\n",
    "        \"B19301_001E\",\n",
    "        \"B17001_002E\",\n",
    "        \"B25077_001E\"\n",
    "    ),\n",
    "    {'for': 'state:*'}\n",
    ")\n",
    "\n",
    "# Convert to DataFrame\n",
    "census_pd_2010 = pd.DataFrame(census_data)\n",
    "\n",
    "# Column renaming\n",
    "census_pd_2010 = census_pd_2010.rename(\n",
    "    columns={\n",
    "        \"B01003_001E\": \"Population\",\n",
    "        \"B01002_001E\": \"Median Age\",\n",
    "        \"B19013_001E\": \"Household Income\",\n",
    "        \"B19301_001E\": \"Per Capita Income\",\n",
    "        \"B17001_002E\": \"Poverty Count\",\n",
    "        \"B25077_001E\": \"Average Value of Owner-Occupied Home\",\n",
    "        \"NAME\":\"State Name\",\n",
    "        \"state\": \"State Code\"\n",
    "    }\n",
    "\n",
    ")\n",
    "\n",
    "# Add a Poverty Rate column (Poverty Count / Population)\n",
    "census_pd_2010[\"Poverty Rate\"] = 100 * census_pd_2010[\"Poverty Count\"].astype(int) / census_pd_2010[\"Population\"].astype(int)\n",
    "\n",
    "# Write in state abbreviations for all states\n",
    "state_abbreviations = {\n",
    "    \"Alabama\": \"AL\",\n",
    "    \"Alaska\": \"AK\",\n",
    "    \"Arizona\": \"AZ\",\n",
    "    \"Arkansas\": \"AR\",\n",
    "    \"California\": \"CA\",\n",
    "    \"Colorado\": \"CO\",\n",
    "    \"Connecticut\": \"CT\",\n",
    "    \"Delaware\": \"DE\",\n",
    "    \"Florida\": \"FL\",\n",
    "    \"Georgia\": \"GA\",\n",
    "    \"Hawaii\": \"HI\",\n",
    "    \"Idaho\": \"ID\",\n",
    "    \"Illinois\": \"IL\",\n",
    "    \"Indiana\": \"IN\",\n",
    "    \"Iowa\": \"IA\",\n",
    "    \"Kansas\": \"KS\",\n",
    "    \"Kentucky\": \"KY\",\n",
    "    \"Louisiana\": \"LA\",\n",
    "    \"Maine\": \"ME\",\n",
    "    \"Maryland\": \"MD\",\n",
    "    \"Massachusetts\": \"MA\",\n",
    "    \"Michigan\": \"MI\",\n",
    "    \"Minnesota\": \"MN\",\n",
    "    \"Mississippi\": \"MS\",\n",
    "    \"Missouri\": \"MO\",\n",
    "    \"Montana\": \"MT\",\n",
    "    \"Nebraska\": \"NE\",\n",
    "    \"Nevada\": \"NV\",\n",
    "    \"New Hampshire\": \"NH\",\n",
    "    \"New Jersey\": \"NJ\",\n",
    "    \"New Mexico\": \"NM\",\n",
    "    \"New York\": \"NY\",\n",
    "    \"North Carolina\": \"NC\",\n",
    "    \"North Dakota\": \"ND\",\n",
    "    \"Ohio\": \"OH\",\n",
    "    \"Oklahoma\": \"OK\",\n",
    "    \"Oregon\": \"OR\",\n",
    "    \"Pennsylvania\": \"PA\",\n",
    "    \"Rhode Island\": \"RI\",\n",
    "    \"South Carolina\": \"SC\",\n",
    "    \"South Dakota\": \"SD\",\n",
    "    \"Tennessee\": \"TN\",\n",
    "    \"Texas\": \"TX\",\n",
    "    \"Utah\": \"UT\",\n",
    "    \"Vermont\": \"VT\",\n",
    "    \"Virginia\": \"VA\",\n",
    "    \"Washington\": \"WA\",\n",
    "    \"West Virginia\": \"WV\",\n",
    "    \"Wisconsin\": \"WI\",\n",
    "    \"Wyoming\": \"WY\",\n",
    "    \"District of Columbia\":\"DC\"\n",
    "}\n",
    "\n",
    "# Create a new column that corresponds the state abbreviation to the state in State Name column\n",
    "census_pd_2010[\"State Abbreviation\"] = census_pd_2010[\"State Name\"].apply(lambda state_name: state_abbreviations.get(state_name))\n",
    "\n",
    "census_pd_2010 = census_pd_2010[\n",
    "    [\n",
    "        \"State Code\",\n",
    "        \"State Name\",\n",
    "        \"State Abbreviation\",\n",
    "        \"Population\",\n",
    "        \"Median Age\",\n",
    "        \"Household Income\",\n",
    "        \"Per Capita Income\",\n",
    "        \"Poverty Count\",\n",
    "        \"Poverty Rate\",\n",
    "        \"Average Value of Owner-Occupied Home\"\n",
    "    ]\n",
    "]\n",
    "\n",
    "# Display DataFrame length and sample data\n",
    "print(f\"Number of rows in the DataFrame: {len(census_pd_2010)}\")\n",
    "census_pd_2010\n"
   ]
  },
  {
   "cell_type": "code",
   "execution_count": null,
   "metadata": {},
   "outputs": [
    {
     "data": {
      "application/vnd.plotly.v1+json": {
       "config": {
        "plotlyServerURL": "https://plot.ly"
       },
       "data": [
        {
         "coloraxis": "coloraxis",
         "geo": "geo",
         "hovertemplate": "State Abbreviation=%{location}<br>Household Income=%{z}<extra></extra>",
         "locationmode": "USA-states",
         "locations": [
          "AL",
          "AK",
          "AZ",
          "AR",
          "CA",
          "CO",
          "CT",
          "DE",
          "DC",
          "FL",
          "GA",
          "HI",
          "ID",
          "IL",
          "IN",
          "IA",
          "KS",
          "KY",
          "LA",
          "ME",
          "MD",
          "MA",
          "MI",
          "MN",
          "MS",
          "MO",
          "MT",
          "NE",
          "NV",
          "NH",
          "NJ",
          "NM",
          "NY",
          "NC",
          "ND",
          "OH",
          "OK",
          "OR",
          "PA",
          "RI",
          "SC",
          "SD",
          "TN",
          "TX",
          "UT",
          "VT",
          "VA",
          "WA",
          "WV",
          "WI",
          "WY",
          null
         ],
         "name": "",
         "type": "choropleth",
         "z": [
          42081,
          66521,
          50448,
          39267,
          60883,
          56456,
          67740,
          57599,
          58526,
          47661,
          49347,
          66420,
          46423,
          55735,
          47697,
          48872,
          49424,
          41576,
          43445,
          46933,
          70647,
          64509,
          48432,
          57243,
          37881,
          46262,
          43872,
          49342,
          55726,
          63277,
          69811,
          43820,
          55603,
          45570,
          46781,
          47358,
          42979,
          49260,
          50398,
          54902,
          43939,
          46369,
          43314,
          49646,
          56330,
          51841,
          61406,
          57244,
          38380,
          51598,
          53802,
          18791
         ]
        }
       ],
       "layout": {
        "coloraxis": {
         "cmax": 70647,
         "cmin": 18791,
         "colorbar": {
          "title": {
           "text": "Household Income"
          }
         },
         "colorscale": [
          [
           0,
           "#440154"
          ],
          [
           0.1111111111111111,
           "#482878"
          ],
          [
           0.2222222222222222,
           "#3e4989"
          ],
          [
           0.3333333333333333,
           "#31688e"
          ],
          [
           0.4444444444444444,
           "#26828e"
          ],
          [
           0.5555555555555556,
           "#1f9e89"
          ],
          [
           0.6666666666666666,
           "#35b779"
          ],
          [
           0.7777777777777778,
           "#6ece58"
          ],
          [
           0.8888888888888888,
           "#b5de2b"
          ],
          [
           1,
           "#fde725"
          ]
         ]
        },
        "geo": {
         "center": {},
         "domain": {
          "x": [
           0,
           1
          ],
          "y": [
           0,
           1
          ]
         },
         "scope": "usa"
        },
        "legend": {
         "tracegroupgap": 0
        },
        "margin": {
         "b": 20,
         "l": 20,
         "r": 40,
         "t": 50
        },
        "template": {
         "data": {
          "bar": [
           {
            "error_x": {
             "color": "#2a3f5f"
            },
            "error_y": {
             "color": "#2a3f5f"
            },
            "marker": {
             "line": {
              "color": "#E5ECF6",
              "width": 0.5
             },
             "pattern": {
              "fillmode": "overlay",
              "size": 10,
              "solidity": 0.2
             }
            },
            "type": "bar"
           }
          ],
          "barpolar": [
           {
            "marker": {
             "line": {
              "color": "#E5ECF6",
              "width": 0.5
             },
             "pattern": {
              "fillmode": "overlay",
              "size": 10,
              "solidity": 0.2
             }
            },
            "type": "barpolar"
           }
          ],
          "carpet": [
           {
            "aaxis": {
             "endlinecolor": "#2a3f5f",
             "gridcolor": "white",
             "linecolor": "white",
             "minorgridcolor": "white",
             "startlinecolor": "#2a3f5f"
            },
            "baxis": {
             "endlinecolor": "#2a3f5f",
             "gridcolor": "white",
             "linecolor": "white",
             "minorgridcolor": "white",
             "startlinecolor": "#2a3f5f"
            },
            "type": "carpet"
           }
          ],
          "choropleth": [
           {
            "colorbar": {
             "outlinewidth": 0,
             "ticks": ""
            },
            "type": "choropleth"
           }
          ],
          "contour": [
           {
            "colorbar": {
             "outlinewidth": 0,
             "ticks": ""
            },
            "colorscale": [
             [
              0,
              "#0d0887"
             ],
             [
              0.1111111111111111,
              "#46039f"
             ],
             [
              0.2222222222222222,
              "#7201a8"
             ],
             [
              0.3333333333333333,
              "#9c179e"
             ],
             [
              0.4444444444444444,
              "#bd3786"
             ],
             [
              0.5555555555555556,
              "#d8576b"
             ],
             [
              0.6666666666666666,
              "#ed7953"
             ],
             [
              0.7777777777777778,
              "#fb9f3a"
             ],
             [
              0.8888888888888888,
              "#fdca26"
             ],
             [
              1,
              "#f0f921"
             ]
            ],
            "type": "contour"
           }
          ],
          "contourcarpet": [
           {
            "colorbar": {
             "outlinewidth": 0,
             "ticks": ""
            },
            "type": "contourcarpet"
           }
          ],
          "heatmap": [
           {
            "colorbar": {
             "outlinewidth": 0,
             "ticks": ""
            },
            "colorscale": [
             [
              0,
              "#0d0887"
             ],
             [
              0.1111111111111111,
              "#46039f"
             ],
             [
              0.2222222222222222,
              "#7201a8"
             ],
             [
              0.3333333333333333,
              "#9c179e"
             ],
             [
              0.4444444444444444,
              "#bd3786"
             ],
             [
              0.5555555555555556,
              "#d8576b"
             ],
             [
              0.6666666666666666,
              "#ed7953"
             ],
             [
              0.7777777777777778,
              "#fb9f3a"
             ],
             [
              0.8888888888888888,
              "#fdca26"
             ],
             [
              1,
              "#f0f921"
             ]
            ],
            "type": "heatmap"
           }
          ],
          "heatmapgl": [
           {
            "colorbar": {
             "outlinewidth": 0,
             "ticks": ""
            },
            "colorscale": [
             [
              0,
              "#0d0887"
             ],
             [
              0.1111111111111111,
              "#46039f"
             ],
             [
              0.2222222222222222,
              "#7201a8"
             ],
             [
              0.3333333333333333,
              "#9c179e"
             ],
             [
              0.4444444444444444,
              "#bd3786"
             ],
             [
              0.5555555555555556,
              "#d8576b"
             ],
             [
              0.6666666666666666,
              "#ed7953"
             ],
             [
              0.7777777777777778,
              "#fb9f3a"
             ],
             [
              0.8888888888888888,
              "#fdca26"
             ],
             [
              1,
              "#f0f921"
             ]
            ],
            "type": "heatmapgl"
           }
          ],
          "histogram": [
           {
            "marker": {
             "pattern": {
              "fillmode": "overlay",
              "size": 10,
              "solidity": 0.2
             }
            },
            "type": "histogram"
           }
          ],
          "histogram2d": [
           {
            "colorbar": {
             "outlinewidth": 0,
             "ticks": ""
            },
            "colorscale": [
             [
              0,
              "#0d0887"
             ],
             [
              0.1111111111111111,
              "#46039f"
             ],
             [
              0.2222222222222222,
              "#7201a8"
             ],
             [
              0.3333333333333333,
              "#9c179e"
             ],
             [
              0.4444444444444444,
              "#bd3786"
             ],
             [
              0.5555555555555556,
              "#d8576b"
             ],
             [
              0.6666666666666666,
              "#ed7953"
             ],
             [
              0.7777777777777778,
              "#fb9f3a"
             ],
             [
              0.8888888888888888,
              "#fdca26"
             ],
             [
              1,
              "#f0f921"
             ]
            ],
            "type": "histogram2d"
           }
          ],
          "histogram2dcontour": [
           {
            "colorbar": {
             "outlinewidth": 0,
             "ticks": ""
            },
            "colorscale": [
             [
              0,
              "#0d0887"
             ],
             [
              0.1111111111111111,
              "#46039f"
             ],
             [
              0.2222222222222222,
              "#7201a8"
             ],
             [
              0.3333333333333333,
              "#9c179e"
             ],
             [
              0.4444444444444444,
              "#bd3786"
             ],
             [
              0.5555555555555556,
              "#d8576b"
             ],
             [
              0.6666666666666666,
              "#ed7953"
             ],
             [
              0.7777777777777778,
              "#fb9f3a"
             ],
             [
              0.8888888888888888,
              "#fdca26"
             ],
             [
              1,
              "#f0f921"
             ]
            ],
            "type": "histogram2dcontour"
           }
          ],
          "mesh3d": [
           {
            "colorbar": {
             "outlinewidth": 0,
             "ticks": ""
            },
            "type": "mesh3d"
           }
          ],
          "parcoords": [
           {
            "line": {
             "colorbar": {
              "outlinewidth": 0,
              "ticks": ""
             }
            },
            "type": "parcoords"
           }
          ],
          "pie": [
           {
            "automargin": true,
            "type": "pie"
           }
          ],
          "scatter": [
           {
            "fillpattern": {
             "fillmode": "overlay",
             "size": 10,
             "solidity": 0.2
            },
            "type": "scatter"
           }
          ],
          "scatter3d": [
           {
            "line": {
             "colorbar": {
              "outlinewidth": 0,
              "ticks": ""
             }
            },
            "marker": {
             "colorbar": {
              "outlinewidth": 0,
              "ticks": ""
             }
            },
            "type": "scatter3d"
           }
          ],
          "scattercarpet": [
           {
            "marker": {
             "colorbar": {
              "outlinewidth": 0,
              "ticks": ""
             }
            },
            "type": "scattercarpet"
           }
          ],
          "scattergeo": [
           {
            "marker": {
             "colorbar": {
              "outlinewidth": 0,
              "ticks": ""
             }
            },
            "type": "scattergeo"
           }
          ],
          "scattergl": [
           {
            "marker": {
             "colorbar": {
              "outlinewidth": 0,
              "ticks": ""
             }
            },
            "type": "scattergl"
           }
          ],
          "scattermapbox": [
           {
            "marker": {
             "colorbar": {
              "outlinewidth": 0,
              "ticks": ""
             }
            },
            "type": "scattermapbox"
           }
          ],
          "scatterpolar": [
           {
            "marker": {
             "colorbar": {
              "outlinewidth": 0,
              "ticks": ""
             }
            },
            "type": "scatterpolar"
           }
          ],
          "scatterpolargl": [
           {
            "marker": {
             "colorbar": {
              "outlinewidth": 0,
              "ticks": ""
             }
            },
            "type": "scatterpolargl"
           }
          ],
          "scatterternary": [
           {
            "marker": {
             "colorbar": {
              "outlinewidth": 0,
              "ticks": ""
             }
            },
            "type": "scatterternary"
           }
          ],
          "surface": [
           {
            "colorbar": {
             "outlinewidth": 0,
             "ticks": ""
            },
            "colorscale": [
             [
              0,
              "#0d0887"
             ],
             [
              0.1111111111111111,
              "#46039f"
             ],
             [
              0.2222222222222222,
              "#7201a8"
             ],
             [
              0.3333333333333333,
              "#9c179e"
             ],
             [
              0.4444444444444444,
              "#bd3786"
             ],
             [
              0.5555555555555556,
              "#d8576b"
             ],
             [
              0.6666666666666666,
              "#ed7953"
             ],
             [
              0.7777777777777778,
              "#fb9f3a"
             ],
             [
              0.8888888888888888,
              "#fdca26"
             ],
             [
              1,
              "#f0f921"
             ]
            ],
            "type": "surface"
           }
          ],
          "table": [
           {
            "cells": {
             "fill": {
              "color": "#EBF0F8"
             },
             "line": {
              "color": "white"
             }
            },
            "header": {
             "fill": {
              "color": "#C8D4E3"
             },
             "line": {
              "color": "white"
             }
            },
            "type": "table"
           }
          ]
         },
         "layout": {
          "annotationdefaults": {
           "arrowcolor": "#2a3f5f",
           "arrowhead": 0,
           "arrowwidth": 1
          },
          "autotypenumbers": "strict",
          "coloraxis": {
           "colorbar": {
            "outlinewidth": 0,
            "ticks": ""
           }
          },
          "colorscale": {
           "diverging": [
            [
             0,
             "#8e0152"
            ],
            [
             0.1,
             "#c51b7d"
            ],
            [
             0.2,
             "#de77ae"
            ],
            [
             0.3,
             "#f1b6da"
            ],
            [
             0.4,
             "#fde0ef"
            ],
            [
             0.5,
             "#f7f7f7"
            ],
            [
             0.6,
             "#e6f5d0"
            ],
            [
             0.7,
             "#b8e186"
            ],
            [
             0.8,
             "#7fbc41"
            ],
            [
             0.9,
             "#4d9221"
            ],
            [
             1,
             "#276419"
            ]
           ],
           "sequential": [
            [
             0,
             "#0d0887"
            ],
            [
             0.1111111111111111,
             "#46039f"
            ],
            [
             0.2222222222222222,
             "#7201a8"
            ],
            [
             0.3333333333333333,
             "#9c179e"
            ],
            [
             0.4444444444444444,
             "#bd3786"
            ],
            [
             0.5555555555555556,
             "#d8576b"
            ],
            [
             0.6666666666666666,
             "#ed7953"
            ],
            [
             0.7777777777777778,
             "#fb9f3a"
            ],
            [
             0.8888888888888888,
             "#fdca26"
            ],
            [
             1,
             "#f0f921"
            ]
           ],
           "sequentialminus": [
            [
             0,
             "#0d0887"
            ],
            [
             0.1111111111111111,
             "#46039f"
            ],
            [
             0.2222222222222222,
             "#7201a8"
            ],
            [
             0.3333333333333333,
             "#9c179e"
            ],
            [
             0.4444444444444444,
             "#bd3786"
            ],
            [
             0.5555555555555556,
             "#d8576b"
            ],
            [
             0.6666666666666666,
             "#ed7953"
            ],
            [
             0.7777777777777778,
             "#fb9f3a"
            ],
            [
             0.8888888888888888,
             "#fdca26"
            ],
            [
             1,
             "#f0f921"
            ]
           ]
          },
          "colorway": [
           "#636efa",
           "#EF553B",
           "#00cc96",
           "#ab63fa",
           "#FFA15A",
           "#19d3f3",
           "#FF6692",
           "#B6E880",
           "#FF97FF",
           "#FECB52"
          ],
          "font": {
           "color": "#2a3f5f"
          },
          "geo": {
           "bgcolor": "white",
           "lakecolor": "white",
           "landcolor": "#E5ECF6",
           "showlakes": true,
           "showland": true,
           "subunitcolor": "white"
          },
          "hoverlabel": {
           "align": "left"
          },
          "hovermode": "closest",
          "mapbox": {
           "style": "light"
          },
          "paper_bgcolor": "white",
          "plot_bgcolor": "#E5ECF6",
          "polar": {
           "angularaxis": {
            "gridcolor": "white",
            "linecolor": "white",
            "ticks": ""
           },
           "bgcolor": "#E5ECF6",
           "radialaxis": {
            "gridcolor": "white",
            "linecolor": "white",
            "ticks": ""
           }
          },
          "scene": {
           "xaxis": {
            "backgroundcolor": "#E5ECF6",
            "gridcolor": "white",
            "gridwidth": 2,
            "linecolor": "white",
            "showbackground": true,
            "ticks": "",
            "zerolinecolor": "white"
           },
           "yaxis": {
            "backgroundcolor": "#E5ECF6",
            "gridcolor": "white",
            "gridwidth": 2,
            "linecolor": "white",
            "showbackground": true,
            "ticks": "",
            "zerolinecolor": "white"
           },
           "zaxis": {
            "backgroundcolor": "#E5ECF6",
            "gridcolor": "white",
            "gridwidth": 2,
            "linecolor": "white",
            "showbackground": true,
            "ticks": "",
            "zerolinecolor": "white"
           }
          },
          "shapedefaults": {
           "line": {
            "color": "#2a3f5f"
           }
          },
          "ternary": {
           "aaxis": {
            "gridcolor": "white",
            "linecolor": "white",
            "ticks": ""
           },
           "baxis": {
            "gridcolor": "white",
            "linecolor": "white",
            "ticks": ""
           },
           "bgcolor": "#E5ECF6",
           "caxis": {
            "gridcolor": "white",
            "linecolor": "white",
            "ticks": ""
           }
          },
          "title": {
           "x": 0.05
          },
          "xaxis": {
           "automargin": true,
           "gridcolor": "white",
           "linecolor": "white",
           "ticks": "",
           "title": {
            "standoff": 15
           },
           "zerolinecolor": "white",
           "zerolinewidth": 2
          },
          "yaxis": {
           "automargin": true,
           "gridcolor": "white",
           "linecolor": "white",
           "ticks": "",
           "title": {
            "standoff": 15
           },
           "zerolinecolor": "white",
           "zerolinewidth": 2
          }
         }
        },
        "title": {
         "text": "Median Household Income by State 2010"
        }
       }
      }
     },
     "metadata": {},
     "output_type": "display_data"
    }
   ],
   "source": [
    "fig = px.choropleth(census_pd_2010,locations= 'State Abbreviation',locationmode=\"USA-states\", color='Household Income',\n",
    "                           color_continuous_scale=\"Viridis\",\n",
    "                           range_color=(census_pd_2010[\"Household Income\"].min(), census_pd_2010[\"Household Income\"].max()),\n",
    "                           scope=\"usa\", title='Median Household Income by State 2010'\n",
    "                          ) \n",
    "\n",
    "fig.update_layout(margin={\"r\":40,\"t\":50,\"l\":20,\"b\":20})\n",
    "fig.show()"
   ]
  },
  {
   "cell_type": "code",
   "execution_count": null,
   "metadata": {},
   "outputs": [
    {
     "data": {
      "application/vnd.plotly.v1+json": {
       "config": {
        "plotlyServerURL": "https://plot.ly"
       },
       "data": [
        {
         "coloraxis": "coloraxis",
         "geo": "geo",
         "hovertemplate": "State Abbreviation=%{location}<br>Average Value of Owner-Occupied Home=%{z}<extra></extra>",
         "locationmode": "USA-states",
         "locations": [
          "AL",
          "AK",
          "AZ",
          "AR",
          "CA",
          "CO",
          "CT",
          "DE",
          "DC",
          "FL",
          "GA",
          "HI",
          "ID",
          "IL",
          "IN",
          "IA",
          "KS",
          "KY",
          "LA",
          "ME",
          "MD",
          "MA",
          "MI",
          "MN",
          "MS",
          "MO",
          "MT",
          "NE",
          "NV",
          "NH",
          "NJ",
          "NM",
          "NY",
          "NC",
          "ND",
          "OH",
          "OK",
          "OR",
          "PA",
          "RI",
          "SC",
          "SD",
          "TN",
          "TX",
          "UT",
          "VT",
          "VA",
          "WA",
          "WV",
          "WI",
          "WY",
          null
         ],
         "name": "",
         "type": "choropleth",
         "z": [
          117600,
          229100,
          215000,
          102300,
          458500,
          236600,
          296500,
          242300,
          443300,
          205600,
          161400,
          537400,
          172700,
          202500,
          123000,
          119200,
          122600,
          116800,
          130000,
          176200,
          329400,
          352300,
          144200,
          206200,
          96500,
          137700,
          173300,
          123900,
          254200,
          253200,
          357000,
          158400,
          303900,
          149100,
          111300,
          136400,
          104300,
          252600,
          159300,
          279300,
          134100,
          122200,
          134100,
          123500,
          218100,
          208400,
          255100,
          285400,
          94500,
          169000,
          174000,
          112600
         ]
        }
       ],
       "layout": {
        "coloraxis": {
         "cmax": 537400,
         "cmin": 94500,
         "colorbar": {
          "title": {
           "text": "Average Value of Owner-Occupied Home"
          }
         },
         "colorscale": [
          [
           0,
           "#440154"
          ],
          [
           0.1111111111111111,
           "#482878"
          ],
          [
           0.2222222222222222,
           "#3e4989"
          ],
          [
           0.3333333333333333,
           "#31688e"
          ],
          [
           0.4444444444444444,
           "#26828e"
          ],
          [
           0.5555555555555556,
           "#1f9e89"
          ],
          [
           0.6666666666666666,
           "#35b779"
          ],
          [
           0.7777777777777778,
           "#6ece58"
          ],
          [
           0.8888888888888888,
           "#b5de2b"
          ],
          [
           1,
           "#fde725"
          ]
         ]
        },
        "geo": {
         "center": {},
         "domain": {
          "x": [
           0,
           1
          ],
          "y": [
           0,
           1
          ]
         },
         "scope": "usa"
        },
        "legend": {
         "tracegroupgap": 0
        },
        "margin": {
         "b": 50,
         "l": 50,
         "r": 50,
         "t": 50
        },
        "template": {
         "data": {
          "bar": [
           {
            "error_x": {
             "color": "#2a3f5f"
            },
            "error_y": {
             "color": "#2a3f5f"
            },
            "marker": {
             "line": {
              "color": "#E5ECF6",
              "width": 0.5
             },
             "pattern": {
              "fillmode": "overlay",
              "size": 10,
              "solidity": 0.2
             }
            },
            "type": "bar"
           }
          ],
          "barpolar": [
           {
            "marker": {
             "line": {
              "color": "#E5ECF6",
              "width": 0.5
             },
             "pattern": {
              "fillmode": "overlay",
              "size": 10,
              "solidity": 0.2
             }
            },
            "type": "barpolar"
           }
          ],
          "carpet": [
           {
            "aaxis": {
             "endlinecolor": "#2a3f5f",
             "gridcolor": "white",
             "linecolor": "white",
             "minorgridcolor": "white",
             "startlinecolor": "#2a3f5f"
            },
            "baxis": {
             "endlinecolor": "#2a3f5f",
             "gridcolor": "white",
             "linecolor": "white",
             "minorgridcolor": "white",
             "startlinecolor": "#2a3f5f"
            },
            "type": "carpet"
           }
          ],
          "choropleth": [
           {
            "colorbar": {
             "outlinewidth": 0,
             "ticks": ""
            },
            "type": "choropleth"
           }
          ],
          "contour": [
           {
            "colorbar": {
             "outlinewidth": 0,
             "ticks": ""
            },
            "colorscale": [
             [
              0,
              "#0d0887"
             ],
             [
              0.1111111111111111,
              "#46039f"
             ],
             [
              0.2222222222222222,
              "#7201a8"
             ],
             [
              0.3333333333333333,
              "#9c179e"
             ],
             [
              0.4444444444444444,
              "#bd3786"
             ],
             [
              0.5555555555555556,
              "#d8576b"
             ],
             [
              0.6666666666666666,
              "#ed7953"
             ],
             [
              0.7777777777777778,
              "#fb9f3a"
             ],
             [
              0.8888888888888888,
              "#fdca26"
             ],
             [
              1,
              "#f0f921"
             ]
            ],
            "type": "contour"
           }
          ],
          "contourcarpet": [
           {
            "colorbar": {
             "outlinewidth": 0,
             "ticks": ""
            },
            "type": "contourcarpet"
           }
          ],
          "heatmap": [
           {
            "colorbar": {
             "outlinewidth": 0,
             "ticks": ""
            },
            "colorscale": [
             [
              0,
              "#0d0887"
             ],
             [
              0.1111111111111111,
              "#46039f"
             ],
             [
              0.2222222222222222,
              "#7201a8"
             ],
             [
              0.3333333333333333,
              "#9c179e"
             ],
             [
              0.4444444444444444,
              "#bd3786"
             ],
             [
              0.5555555555555556,
              "#d8576b"
             ],
             [
              0.6666666666666666,
              "#ed7953"
             ],
             [
              0.7777777777777778,
              "#fb9f3a"
             ],
             [
              0.8888888888888888,
              "#fdca26"
             ],
             [
              1,
              "#f0f921"
             ]
            ],
            "type": "heatmap"
           }
          ],
          "heatmapgl": [
           {
            "colorbar": {
             "outlinewidth": 0,
             "ticks": ""
            },
            "colorscale": [
             [
              0,
              "#0d0887"
             ],
             [
              0.1111111111111111,
              "#46039f"
             ],
             [
              0.2222222222222222,
              "#7201a8"
             ],
             [
              0.3333333333333333,
              "#9c179e"
             ],
             [
              0.4444444444444444,
              "#bd3786"
             ],
             [
              0.5555555555555556,
              "#d8576b"
             ],
             [
              0.6666666666666666,
              "#ed7953"
             ],
             [
              0.7777777777777778,
              "#fb9f3a"
             ],
             [
              0.8888888888888888,
              "#fdca26"
             ],
             [
              1,
              "#f0f921"
             ]
            ],
            "type": "heatmapgl"
           }
          ],
          "histogram": [
           {
            "marker": {
             "pattern": {
              "fillmode": "overlay",
              "size": 10,
              "solidity": 0.2
             }
            },
            "type": "histogram"
           }
          ],
          "histogram2d": [
           {
            "colorbar": {
             "outlinewidth": 0,
             "ticks": ""
            },
            "colorscale": [
             [
              0,
              "#0d0887"
             ],
             [
              0.1111111111111111,
              "#46039f"
             ],
             [
              0.2222222222222222,
              "#7201a8"
             ],
             [
              0.3333333333333333,
              "#9c179e"
             ],
             [
              0.4444444444444444,
              "#bd3786"
             ],
             [
              0.5555555555555556,
              "#d8576b"
             ],
             [
              0.6666666666666666,
              "#ed7953"
             ],
             [
              0.7777777777777778,
              "#fb9f3a"
             ],
             [
              0.8888888888888888,
              "#fdca26"
             ],
             [
              1,
              "#f0f921"
             ]
            ],
            "type": "histogram2d"
           }
          ],
          "histogram2dcontour": [
           {
            "colorbar": {
             "outlinewidth": 0,
             "ticks": ""
            },
            "colorscale": [
             [
              0,
              "#0d0887"
             ],
             [
              0.1111111111111111,
              "#46039f"
             ],
             [
              0.2222222222222222,
              "#7201a8"
             ],
             [
              0.3333333333333333,
              "#9c179e"
             ],
             [
              0.4444444444444444,
              "#bd3786"
             ],
             [
              0.5555555555555556,
              "#d8576b"
             ],
             [
              0.6666666666666666,
              "#ed7953"
             ],
             [
              0.7777777777777778,
              "#fb9f3a"
             ],
             [
              0.8888888888888888,
              "#fdca26"
             ],
             [
              1,
              "#f0f921"
             ]
            ],
            "type": "histogram2dcontour"
           }
          ],
          "mesh3d": [
           {
            "colorbar": {
             "outlinewidth": 0,
             "ticks": ""
            },
            "type": "mesh3d"
           }
          ],
          "parcoords": [
           {
            "line": {
             "colorbar": {
              "outlinewidth": 0,
              "ticks": ""
             }
            },
            "type": "parcoords"
           }
          ],
          "pie": [
           {
            "automargin": true,
            "type": "pie"
           }
          ],
          "scatter": [
           {
            "fillpattern": {
             "fillmode": "overlay",
             "size": 10,
             "solidity": 0.2
            },
            "type": "scatter"
           }
          ],
          "scatter3d": [
           {
            "line": {
             "colorbar": {
              "outlinewidth": 0,
              "ticks": ""
             }
            },
            "marker": {
             "colorbar": {
              "outlinewidth": 0,
              "ticks": ""
             }
            },
            "type": "scatter3d"
           }
          ],
          "scattercarpet": [
           {
            "marker": {
             "colorbar": {
              "outlinewidth": 0,
              "ticks": ""
             }
            },
            "type": "scattercarpet"
           }
          ],
          "scattergeo": [
           {
            "marker": {
             "colorbar": {
              "outlinewidth": 0,
              "ticks": ""
             }
            },
            "type": "scattergeo"
           }
          ],
          "scattergl": [
           {
            "marker": {
             "colorbar": {
              "outlinewidth": 0,
              "ticks": ""
             }
            },
            "type": "scattergl"
           }
          ],
          "scattermapbox": [
           {
            "marker": {
             "colorbar": {
              "outlinewidth": 0,
              "ticks": ""
             }
            },
            "type": "scattermapbox"
           }
          ],
          "scatterpolar": [
           {
            "marker": {
             "colorbar": {
              "outlinewidth": 0,
              "ticks": ""
             }
            },
            "type": "scatterpolar"
           }
          ],
          "scatterpolargl": [
           {
            "marker": {
             "colorbar": {
              "outlinewidth": 0,
              "ticks": ""
             }
            },
            "type": "scatterpolargl"
           }
          ],
          "scatterternary": [
           {
            "marker": {
             "colorbar": {
              "outlinewidth": 0,
              "ticks": ""
             }
            },
            "type": "scatterternary"
           }
          ],
          "surface": [
           {
            "colorbar": {
             "outlinewidth": 0,
             "ticks": ""
            },
            "colorscale": [
             [
              0,
              "#0d0887"
             ],
             [
              0.1111111111111111,
              "#46039f"
             ],
             [
              0.2222222222222222,
              "#7201a8"
             ],
             [
              0.3333333333333333,
              "#9c179e"
             ],
             [
              0.4444444444444444,
              "#bd3786"
             ],
             [
              0.5555555555555556,
              "#d8576b"
             ],
             [
              0.6666666666666666,
              "#ed7953"
             ],
             [
              0.7777777777777778,
              "#fb9f3a"
             ],
             [
              0.8888888888888888,
              "#fdca26"
             ],
             [
              1,
              "#f0f921"
             ]
            ],
            "type": "surface"
           }
          ],
          "table": [
           {
            "cells": {
             "fill": {
              "color": "#EBF0F8"
             },
             "line": {
              "color": "white"
             }
            },
            "header": {
             "fill": {
              "color": "#C8D4E3"
             },
             "line": {
              "color": "white"
             }
            },
            "type": "table"
           }
          ]
         },
         "layout": {
          "annotationdefaults": {
           "arrowcolor": "#2a3f5f",
           "arrowhead": 0,
           "arrowwidth": 1
          },
          "autotypenumbers": "strict",
          "coloraxis": {
           "colorbar": {
            "outlinewidth": 0,
            "ticks": ""
           }
          },
          "colorscale": {
           "diverging": [
            [
             0,
             "#8e0152"
            ],
            [
             0.1,
             "#c51b7d"
            ],
            [
             0.2,
             "#de77ae"
            ],
            [
             0.3,
             "#f1b6da"
            ],
            [
             0.4,
             "#fde0ef"
            ],
            [
             0.5,
             "#f7f7f7"
            ],
            [
             0.6,
             "#e6f5d0"
            ],
            [
             0.7,
             "#b8e186"
            ],
            [
             0.8,
             "#7fbc41"
            ],
            [
             0.9,
             "#4d9221"
            ],
            [
             1,
             "#276419"
            ]
           ],
           "sequential": [
            [
             0,
             "#0d0887"
            ],
            [
             0.1111111111111111,
             "#46039f"
            ],
            [
             0.2222222222222222,
             "#7201a8"
            ],
            [
             0.3333333333333333,
             "#9c179e"
            ],
            [
             0.4444444444444444,
             "#bd3786"
            ],
            [
             0.5555555555555556,
             "#d8576b"
            ],
            [
             0.6666666666666666,
             "#ed7953"
            ],
            [
             0.7777777777777778,
             "#fb9f3a"
            ],
            [
             0.8888888888888888,
             "#fdca26"
            ],
            [
             1,
             "#f0f921"
            ]
           ],
           "sequentialminus": [
            [
             0,
             "#0d0887"
            ],
            [
             0.1111111111111111,
             "#46039f"
            ],
            [
             0.2222222222222222,
             "#7201a8"
            ],
            [
             0.3333333333333333,
             "#9c179e"
            ],
            [
             0.4444444444444444,
             "#bd3786"
            ],
            [
             0.5555555555555556,
             "#d8576b"
            ],
            [
             0.6666666666666666,
             "#ed7953"
            ],
            [
             0.7777777777777778,
             "#fb9f3a"
            ],
            [
             0.8888888888888888,
             "#fdca26"
            ],
            [
             1,
             "#f0f921"
            ]
           ]
          },
          "colorway": [
           "#636efa",
           "#EF553B",
           "#00cc96",
           "#ab63fa",
           "#FFA15A",
           "#19d3f3",
           "#FF6692",
           "#B6E880",
           "#FF97FF",
           "#FECB52"
          ],
          "font": {
           "color": "#2a3f5f"
          },
          "geo": {
           "bgcolor": "white",
           "lakecolor": "white",
           "landcolor": "#E5ECF6",
           "showlakes": true,
           "showland": true,
           "subunitcolor": "white"
          },
          "hoverlabel": {
           "align": "left"
          },
          "hovermode": "closest",
          "mapbox": {
           "style": "light"
          },
          "paper_bgcolor": "white",
          "plot_bgcolor": "#E5ECF6",
          "polar": {
           "angularaxis": {
            "gridcolor": "white",
            "linecolor": "white",
            "ticks": ""
           },
           "bgcolor": "#E5ECF6",
           "radialaxis": {
            "gridcolor": "white",
            "linecolor": "white",
            "ticks": ""
           }
          },
          "scene": {
           "xaxis": {
            "backgroundcolor": "#E5ECF6",
            "gridcolor": "white",
            "gridwidth": 2,
            "linecolor": "white",
            "showbackground": true,
            "ticks": "",
            "zerolinecolor": "white"
           },
           "yaxis": {
            "backgroundcolor": "#E5ECF6",
            "gridcolor": "white",
            "gridwidth": 2,
            "linecolor": "white",
            "showbackground": true,
            "ticks": "",
            "zerolinecolor": "white"
           },
           "zaxis": {
            "backgroundcolor": "#E5ECF6",
            "gridcolor": "white",
            "gridwidth": 2,
            "linecolor": "white",
            "showbackground": true,
            "ticks": "",
            "zerolinecolor": "white"
           }
          },
          "shapedefaults": {
           "line": {
            "color": "#2a3f5f"
           }
          },
          "ternary": {
           "aaxis": {
            "gridcolor": "white",
            "linecolor": "white",
            "ticks": ""
           },
           "baxis": {
            "gridcolor": "white",
            "linecolor": "white",
            "ticks": ""
           },
           "bgcolor": "#E5ECF6",
           "caxis": {
            "gridcolor": "white",
            "linecolor": "white",
            "ticks": ""
           }
          },
          "title": {
           "x": 0.05
          },
          "xaxis": {
           "automargin": true,
           "gridcolor": "white",
           "linecolor": "white",
           "ticks": "",
           "title": {
            "standoff": 15
           },
           "zerolinecolor": "white",
           "zerolinewidth": 2
          },
          "yaxis": {
           "automargin": true,
           "gridcolor": "white",
           "linecolor": "white",
           "ticks": "",
           "title": {
            "standoff": 15
           },
           "zerolinecolor": "white",
           "zerolinewidth": 2
          }
         }
        },
        "title": {
         "text": "Average Value of Owner-Occupied Home by State 2010"
        }
       }
      }
     },
     "metadata": {},
     "output_type": "display_data"
    }
   ],
   "source": [
    "#Create Maps for 2010\n",
    "fig = px.choropleth(census_pd_2010,locations= 'State Abbreviation',locationmode=\"USA-states\", color=\"Average Value of Owner-Occupied Home\",\n",
    "                           color_continuous_scale=\"Viridis\",\n",
    "                           range_color=(census_pd_2010[\"Average Value of Owner-Occupied Home\"].min(), census_pd_2010[\"Average Value of Owner-Occupied Home\"].max()),\n",
    "                           scope=\"usa\", title=\"Average Value of Owner-Occupied Home by State 2010\"\n",
    "                          ) \n",
    "\n",
    "fig.update_layout(margin={\"r\":50,\"t\":50,\"l\":50,\"b\":50})\n",
    "fig.show()"
   ]
  },
  {
   "cell_type": "code",
   "execution_count": null,
   "metadata": {},
   "outputs": [
    {
     "data": {
      "text/html": [
       "<div>\n",
       "<style scoped>\n",
       "    .dataframe tbody tr th:only-of-type {\n",
       "        vertical-align: middle;\n",
       "    }\n",
       "\n",
       "    .dataframe tbody tr th {\n",
       "        vertical-align: top;\n",
       "    }\n",
       "\n",
       "    .dataframe thead th {\n",
       "        text-align: right;\n",
       "    }\n",
       "</style>\n",
       "<table border=\"1\" class=\"dataframe\">\n",
       "  <thead>\n",
       "    <tr style=\"text-align: right;\">\n",
       "      <th></th>\n",
       "      <th>State Code_x</th>\n",
       "      <th>State Name</th>\n",
       "      <th>State Abbreviation</th>\n",
       "      <th>Population_x</th>\n",
       "      <th>Median Age_x</th>\n",
       "      <th>Household Income_x</th>\n",
       "      <th>Per Capita Income_x</th>\n",
       "      <th>Poverty Count_x</th>\n",
       "      <th>Poverty Rate_x</th>\n",
       "      <th>Average Value of Owner-Occupied Home_x</th>\n",
       "      <th>State Code_y</th>\n",
       "      <th>Population_y</th>\n",
       "      <th>Median Age_y</th>\n",
       "      <th>Household Income_y</th>\n",
       "      <th>Per Capita Income_y</th>\n",
       "      <th>Poverty Count_y</th>\n",
       "      <th>Poverty Rate_y</th>\n",
       "      <th>Average Value of Owner-Occupied Home_y</th>\n",
       "    </tr>\n",
       "  </thead>\n",
       "  <tbody>\n",
       "    <tr>\n",
       "      <th>0</th>\n",
       "      <td>42</td>\n",
       "      <td>Pennsylvania</td>\n",
       "      <td>PA</td>\n",
       "      <td>12794885.0</td>\n",
       "      <td>40.9</td>\n",
       "      <td>63627.0</td>\n",
       "      <td>35518.0</td>\n",
       "      <td>1480430.0</td>\n",
       "      <td>11.570483</td>\n",
       "      <td>187500.0</td>\n",
       "      <td>42</td>\n",
       "      <td>12612705.0</td>\n",
       "      <td>39.8</td>\n",
       "      <td>50398.0</td>\n",
       "      <td>27049.0</td>\n",
       "      <td>1509858.0</td>\n",
       "      <td>11.970929</td>\n",
       "      <td>159300.0</td>\n",
       "    </tr>\n",
       "    <tr>\n",
       "      <th>1</th>\n",
       "      <td>06</td>\n",
       "      <td>California</td>\n",
       "      <td>CA</td>\n",
       "      <td>39346023.0</td>\n",
       "      <td>36.7</td>\n",
       "      <td>78672.0</td>\n",
       "      <td>38576.0</td>\n",
       "      <td>4853434.0</td>\n",
       "      <td>12.335259</td>\n",
       "      <td>538500.0</td>\n",
       "      <td>06</td>\n",
       "      <td>36637290.0</td>\n",
       "      <td>34.9</td>\n",
       "      <td>60883.0</td>\n",
       "      <td>29188.0</td>\n",
       "      <td>4919945.0</td>\n",
       "      <td>13.428791</td>\n",
       "      <td>458500.0</td>\n",
       "    </tr>\n",
       "    <tr>\n",
       "      <th>2</th>\n",
       "      <td>54</td>\n",
       "      <td>West Virginia</td>\n",
       "      <td>WV</td>\n",
       "      <td>1807426.0</td>\n",
       "      <td>42.7</td>\n",
       "      <td>48037.0</td>\n",
       "      <td>27346.0</td>\n",
       "      <td>300152.0</td>\n",
       "      <td>16.606600</td>\n",
       "      <td>123200.0</td>\n",
       "      <td>54</td>\n",
       "      <td>1840802.0</td>\n",
       "      <td>41.1</td>\n",
       "      <td>38380.0</td>\n",
       "      <td>21232.0</td>\n",
       "      <td>310495.0</td>\n",
       "      <td>16.867376</td>\n",
       "      <td>94500.0</td>\n",
       "    </tr>\n",
       "    <tr>\n",
       "      <th>3</th>\n",
       "      <td>49</td>\n",
       "      <td>Utah</td>\n",
       "      <td>UT</td>\n",
       "      <td>3151239.0</td>\n",
       "      <td>31.1</td>\n",
       "      <td>74197.0</td>\n",
       "      <td>30986.0</td>\n",
       "      <td>283360.0</td>\n",
       "      <td>8.992019</td>\n",
       "      <td>305400.0</td>\n",
       "      <td>49</td>\n",
       "      <td>2657236.0</td>\n",
       "      <td>28.8</td>\n",
       "      <td>56330.0</td>\n",
       "      <td>23139.0</td>\n",
       "      <td>283536.0</td>\n",
       "      <td>10.670336</td>\n",
       "      <td>218100.0</td>\n",
       "    </tr>\n",
       "    <tr>\n",
       "      <th>4</th>\n",
       "      <td>36</td>\n",
       "      <td>New York</td>\n",
       "      <td>NY</td>\n",
       "      <td>19514849.0</td>\n",
       "      <td>39.0</td>\n",
       "      <td>71117.0</td>\n",
       "      <td>40898.0</td>\n",
       "      <td>2581048.0</td>\n",
       "      <td>13.226072</td>\n",
       "      <td>325000.0</td>\n",
       "      <td>36</td>\n",
       "      <td>19229752.0</td>\n",
       "      <td>37.7</td>\n",
       "      <td>55603.0</td>\n",
       "      <td>30948.0</td>\n",
       "      <td>2650166.0</td>\n",
       "      <td>13.781592</td>\n",
       "      <td>303900.0</td>\n",
       "    </tr>\n",
       "  </tbody>\n",
       "</table>\n",
       "</div>"
      ],
      "text/plain": [
       "  State Code_x     State Name State Abbreviation  Population_x  Median Age_x  \\\n",
       "0           42   Pennsylvania                 PA    12794885.0          40.9   \n",
       "1           06     California                 CA    39346023.0          36.7   \n",
       "2           54  West Virginia                 WV     1807426.0          42.7   \n",
       "3           49           Utah                 UT     3151239.0          31.1   \n",
       "4           36       New York                 NY    19514849.0          39.0   \n",
       "\n",
       "   Household Income_x  Per Capita Income_x  Poverty Count_x  Poverty Rate_x  \\\n",
       "0             63627.0              35518.0        1480430.0       11.570483   \n",
       "1             78672.0              38576.0        4853434.0       12.335259   \n",
       "2             48037.0              27346.0         300152.0       16.606600   \n",
       "3             74197.0              30986.0         283360.0        8.992019   \n",
       "4             71117.0              40898.0        2581048.0       13.226072   \n",
       "\n",
       "   Average Value of Owner-Occupied Home_x State Code_y  Population_y  \\\n",
       "0                                187500.0           42    12612705.0   \n",
       "1                                538500.0           06    36637290.0   \n",
       "2                                123200.0           54     1840802.0   \n",
       "3                                305400.0           49     2657236.0   \n",
       "4                                325000.0           36    19229752.0   \n",
       "\n",
       "   Median Age_y  Household Income_y  Per Capita Income_y  Poverty Count_y  \\\n",
       "0          39.8             50398.0              27049.0        1509858.0   \n",
       "1          34.9             60883.0              29188.0        4919945.0   \n",
       "2          41.1             38380.0              21232.0         310495.0   \n",
       "3          28.8             56330.0              23139.0         283536.0   \n",
       "4          37.7             55603.0              30948.0        2650166.0   \n",
       "\n",
       "   Poverty Rate_y  Average Value of Owner-Occupied Home_y  \n",
       "0       11.970929                                159300.0  \n",
       "1       13.428791                                458500.0  \n",
       "2       16.867376                                 94500.0  \n",
       "3       10.670336                                218100.0  \n",
       "4       13.781592                                303900.0  "
      ]
     },
     "execution_count": 141,
     "metadata": {},
     "output_type": "execute_result"
    }
   ],
   "source": [
    "#Merge Datasets\n",
    "import pandas as pd\n",
    "merged_data = pd.merge(census_pd,census_pd_2010,on=['State Name','State Abbreviation'])\n",
    "merged_data.head()\n"
   ]
  },
  {
   "cell_type": "code",
   "execution_count": null,
   "metadata": {},
   "outputs": [
    {
     "data": {
      "text/html": [
       "<div>\n",
       "<style scoped>\n",
       "    .dataframe tbody tr th:only-of-type {\n",
       "        vertical-align: middle;\n",
       "    }\n",
       "\n",
       "    .dataframe tbody tr th {\n",
       "        vertical-align: top;\n",
       "    }\n",
       "\n",
       "    .dataframe thead th {\n",
       "        text-align: right;\n",
       "    }\n",
       "</style>\n",
       "<table border=\"1\" class=\"dataframe\">\n",
       "  <thead>\n",
       "    <tr style=\"text-align: right;\">\n",
       "      <th></th>\n",
       "      <th>State Abbreviation</th>\n",
       "      <th>Average Value of Owner-Occupied Home 2020</th>\n",
       "      <th>Average Value of Owner-Occupied Home 2010</th>\n",
       "    </tr>\n",
       "  </thead>\n",
       "  <tbody>\n",
       "    <tr>\n",
       "      <th>0</th>\n",
       "      <td>PA</td>\n",
       "      <td>187500.0</td>\n",
       "      <td>159300.0</td>\n",
       "    </tr>\n",
       "    <tr>\n",
       "      <th>1</th>\n",
       "      <td>CA</td>\n",
       "      <td>538500.0</td>\n",
       "      <td>458500.0</td>\n",
       "    </tr>\n",
       "    <tr>\n",
       "      <th>2</th>\n",
       "      <td>WV</td>\n",
       "      <td>123200.0</td>\n",
       "      <td>94500.0</td>\n",
       "    </tr>\n",
       "    <tr>\n",
       "      <th>3</th>\n",
       "      <td>UT</td>\n",
       "      <td>305400.0</td>\n",
       "      <td>218100.0</td>\n",
       "    </tr>\n",
       "    <tr>\n",
       "      <th>4</th>\n",
       "      <td>NY</td>\n",
       "      <td>325000.0</td>\n",
       "      <td>303900.0</td>\n",
       "    </tr>\n",
       "  </tbody>\n",
       "</table>\n",
       "</div>"
      ],
      "text/plain": [
       "  State Abbreviation  Average Value of Owner-Occupied Home 2020  \\\n",
       "0                 PA                                   187500.0   \n",
       "1                 CA                                   538500.0   \n",
       "2                 WV                                   123200.0   \n",
       "3                 UT                                   305400.0   \n",
       "4                 NY                                   325000.0   \n",
       "\n",
       "   Average Value of Owner-Occupied Home 2010  \n",
       "0                                   159300.0  \n",
       "1                                   458500.0  \n",
       "2                                    94500.0  \n",
       "3                                   218100.0  \n",
       "4                                   303900.0  "
      ]
     },
     "execution_count": 142,
     "metadata": {},
     "output_type": "execute_result"
    }
   ],
   "source": [
    "# Rename columns\n",
    "merged_data = merged_data.rename(columns={\n",
    "    \"Average Value of Owner-Occupied Home_x\": \"Average Value of Owner-Occupied Home 2020\",\n",
    "    \"Average Value of Owner-Occupied Home_y\": \"Average Value of Owner-Occupied Home 2010\"\n",
    "})\n",
    "\n",
    "# Select specific columns\n",
    "merged_data = merged_data[[\"State Abbreviation\", \"Average Value of Owner-Occupied Home 2020\", \"Average Value of Owner-Occupied Home 2010\"]]\n",
    "\n",
    "# Display the resulting DataFrame\n",
    "merged_data.head()"
   ]
  },
  {
   "cell_type": "code",
   "execution_count": null,
   "metadata": {},
   "outputs": [
    {
     "data": {
      "text/html": [
       "<div>\n",
       "<style scoped>\n",
       "    .dataframe tbody tr th:only-of-type {\n",
       "        vertical-align: middle;\n",
       "    }\n",
       "\n",
       "    .dataframe tbody tr th {\n",
       "        vertical-align: top;\n",
       "    }\n",
       "\n",
       "    .dataframe thead th {\n",
       "        text-align: right;\n",
       "    }\n",
       "</style>\n",
       "<table border=\"1\" class=\"dataframe\">\n",
       "  <thead>\n",
       "    <tr style=\"text-align: right;\">\n",
       "      <th></th>\n",
       "      <th>State Abbreviation</th>\n",
       "      <th>Average Value of Owner-Occupied Home 2020</th>\n",
       "      <th>Average Value of Owner-Occupied Home 2010</th>\n",
       "      <th>State Code</th>\n",
       "      <th>State Name</th>\n",
       "      <th>Population</th>\n",
       "      <th>Median Age</th>\n",
       "      <th>Household Income</th>\n",
       "      <th>Per Capita Income</th>\n",
       "      <th>Poverty Count</th>\n",
       "      <th>Poverty Rate</th>\n",
       "      <th>Average Value of Owner-Occupied Home</th>\n",
       "    </tr>\n",
       "  </thead>\n",
       "  <tbody>\n",
       "    <tr>\n",
       "      <th>0</th>\n",
       "      <td>PA</td>\n",
       "      <td>187500.0</td>\n",
       "      <td>159300.0</td>\n",
       "      <td>42</td>\n",
       "      <td>Pennsylvania</td>\n",
       "      <td>12779559.0</td>\n",
       "      <td>40.5</td>\n",
       "      <td>53599.0</td>\n",
       "      <td>29291.0</td>\n",
       "      <td>1666569.0</td>\n",
       "      <td>13.040896</td>\n",
       "      <td>166000.0</td>\n",
       "    </tr>\n",
       "    <tr>\n",
       "      <th>1</th>\n",
       "      <td>CA</td>\n",
       "      <td>538500.0</td>\n",
       "      <td>458500.0</td>\n",
       "      <td>06</td>\n",
       "      <td>California</td>\n",
       "      <td>38421464.0</td>\n",
       "      <td>35.8</td>\n",
       "      <td>61818.0</td>\n",
       "      <td>30318.0</td>\n",
       "      <td>6135142.0</td>\n",
       "      <td>15.968007</td>\n",
       "      <td>385500.0</td>\n",
       "    </tr>\n",
       "    <tr>\n",
       "      <th>2</th>\n",
       "      <td>WV</td>\n",
       "      <td>123200.0</td>\n",
       "      <td>94500.0</td>\n",
       "      <td>54</td>\n",
       "      <td>West Virginia</td>\n",
       "      <td>1851420.0</td>\n",
       "      <td>41.8</td>\n",
       "      <td>41751.0</td>\n",
       "      <td>23450.0</td>\n",
       "      <td>323384.0</td>\n",
       "      <td>17.466809</td>\n",
       "      <td>103800.0</td>\n",
       "    </tr>\n",
       "    <tr>\n",
       "      <th>3</th>\n",
       "      <td>UT</td>\n",
       "      <td>305400.0</td>\n",
       "      <td>218100.0</td>\n",
       "      <td>49</td>\n",
       "      <td>Utah</td>\n",
       "      <td>2903379.0</td>\n",
       "      <td>30.1</td>\n",
       "      <td>60727.0</td>\n",
       "      <td>24686.0</td>\n",
       "      <td>351601.0</td>\n",
       "      <td>12.110062</td>\n",
       "      <td>215900.0</td>\n",
       "    </tr>\n",
       "    <tr>\n",
       "      <th>4</th>\n",
       "      <td>NY</td>\n",
       "      <td>325000.0</td>\n",
       "      <td>303900.0</td>\n",
       "      <td>36</td>\n",
       "      <td>New York</td>\n",
       "      <td>19673174.0</td>\n",
       "      <td>38.1</td>\n",
       "      <td>59269.0</td>\n",
       "      <td>33236.0</td>\n",
       "      <td>3005943.0</td>\n",
       "      <td>15.279400</td>\n",
       "      <td>283400.0</td>\n",
       "    </tr>\n",
       "  </tbody>\n",
       "</table>\n",
       "</div>"
      ],
      "text/plain": [
       "  State Abbreviation  Average Value of Owner-Occupied Home 2020  \\\n",
       "0                 PA                                   187500.0   \n",
       "1                 CA                                   538500.0   \n",
       "2                 WV                                   123200.0   \n",
       "3                 UT                                   305400.0   \n",
       "4                 NY                                   325000.0   \n",
       "\n",
       "   Average Value of Owner-Occupied Home 2010 State Code     State Name  \\\n",
       "0                                   159300.0         42   Pennsylvania   \n",
       "1                                   458500.0         06     California   \n",
       "2                                    94500.0         54  West Virginia   \n",
       "3                                   218100.0         49           Utah   \n",
       "4                                   303900.0         36       New York   \n",
       "\n",
       "   Population  Median Age  Household Income  Per Capita Income  Poverty Count  \\\n",
       "0  12779559.0        40.5           53599.0            29291.0      1666569.0   \n",
       "1  38421464.0        35.8           61818.0            30318.0      6135142.0   \n",
       "2   1851420.0        41.8           41751.0            23450.0       323384.0   \n",
       "3   2903379.0        30.1           60727.0            24686.0       351601.0   \n",
       "4  19673174.0        38.1           59269.0            33236.0      3005943.0   \n",
       "\n",
       "   Poverty Rate  Average Value of Owner-Occupied Home  \n",
       "0     13.040896                              166000.0  \n",
       "1     15.968007                              385500.0  \n",
       "2     17.466809                              103800.0  \n",
       "3     12.110062                              215900.0  \n",
       "4     15.279400                              283400.0  "
      ]
     },
     "execution_count": 143,
     "metadata": {},
     "output_type": "execute_result"
    }
   ],
   "source": [
    "#import 2015 data and merge with 2020 and 2010\n",
    "\n",
    "#repeat the same process for 2015\n",
    "\n",
    "import requests\n",
    "import pandas as pd\n",
    "from census import Census\n",
    "\n",
    "api_key = 'a61f540cf4897b56d88a369afc0e65de6fa6c5e8'\n",
    "\n",
    "c = Census(\n",
    "    api_key,\n",
    "    year=2015\n",
    ")\n",
    "\n",
    "# Run Census Search to retrieve data for all states (2000 ACS5 Census)\n",
    "census_data2015 = c.acs5.get(\n",
    "    (\n",
    "        \"NAME\",\n",
    "        \"B19013_001E\",\n",
    "        \"B01003_001E\",\n",
    "        \"B01002_001E\",\n",
    "        \"B19301_001E\",\n",
    "        \"B17001_002E\",\n",
    "        \"B25077_001E\"\n",
    "    ),\n",
    "    {'for': 'state:*'}\n",
    ")\n",
    "\n",
    "# Convert to DataFrame\n",
    "census_pd_2015 = pd.DataFrame(census_data2015)\n",
    "\n",
    "# Column renaming\n",
    "census_pd_2015 = census_pd_2015.rename(\n",
    "    columns={\n",
    "        \"B01003_001E\": \"Population\",\n",
    "        \"B01002_001E\": \"Median Age\",\n",
    "        \"B19013_001E\": \"Household Income\",\n",
    "        \"B19301_001E\": \"Per Capita Income\",\n",
    "        \"B17001_002E\": \"Poverty Count\",\n",
    "        \"B25077_001E\": \"Average Value of Owner-Occupied Home\",\n",
    "        \"NAME\":\"State Name\",\n",
    "        \"state\": \"State Code\"\n",
    "    }\n",
    "\n",
    ")\n",
    "\n",
    "# Add a Poverty Rate column (Poverty Count / Population)\n",
    "census_pd_2015[\"Poverty Rate\"] = 100 * census_pd_2015[\"Poverty Count\"].astype(int) / census_pd_2015[\"Population\"].astype(int)\n",
    "\n",
    "# Write in state abbreviations for all states\n",
    "state_abbreviations = {\n",
    "    \"Alabama\": \"AL\",\n",
    "    \"Alaska\": \"AK\",\n",
    "    \"Arizona\": \"AZ\",\n",
    "    \"Arkansas\": \"AR\",\n",
    "    \"California\": \"CA\",\n",
    "    \"Colorado\": \"CO\",\n",
    "    \"Connecticut\": \"CT\",\n",
    "    \"Delaware\": \"DE\",\n",
    "    \"Florida\": \"FL\",\n",
    "    \"Georgia\": \"GA\",\n",
    "    \"Hawaii\": \"HI\",\n",
    "    \"Idaho\": \"ID\",\n",
    "    \"Illinois\": \"IL\",\n",
    "    \"Indiana\": \"IN\",\n",
    "    \"Iowa\": \"IA\",\n",
    "    \"Kansas\": \"KS\",\n",
    "    \"Kentucky\": \"KY\",\n",
    "    \"Louisiana\": \"LA\",\n",
    "    \"Maine\": \"ME\",\n",
    "    \"Maryland\": \"MD\",\n",
    "    \"Massachusetts\": \"MA\",\n",
    "    \"Michigan\": \"MI\",\n",
    "    \"Minnesota\": \"MN\",\n",
    "    \"Mississippi\": \"MS\",\n",
    "    \"Missouri\": \"MO\",\n",
    "    \"Montana\": \"MT\",\n",
    "    \"Nebraska\": \"NE\",\n",
    "    \"Nevada\": \"NV\",\n",
    "    \"New Hampshire\": \"NH\",\n",
    "    \"New Jersey\": \"NJ\",\n",
    "    \"New Mexico\": \"NM\",\n",
    "    \"New York\": \"NY\",\n",
    "    \"North Carolina\": \"NC\",\n",
    "    \"North Dakota\": \"ND\",\n",
    "    \"Ohio\": \"OH\",\n",
    "    \"Oklahoma\": \"OK\",\n",
    "    \"Oregon\": \"OR\",\n",
    "    \"Pennsylvania\": \"PA\",\n",
    "    \"Rhode Island\": \"RI\",\n",
    "    \"South Carolina\": \"SC\",\n",
    "    \"South Dakota\": \"SD\",\n",
    "    \"Tennessee\": \"TN\",\n",
    "    \"Texas\": \"TX\",\n",
    "    \"Utah\": \"UT\",\n",
    "    \"Vermont\": \"VT\",\n",
    "    \"Virginia\": \"VA\",\n",
    "    \"Washington\": \"WA\",\n",
    "    \"West Virginia\": \"WV\",\n",
    "    \"Wisconsin\": \"WI\",\n",
    "    \"Wyoming\": \"WY\",\n",
    "    \"District of Columbia\":\"DC\"\n",
    "}\n",
    "\n",
    "# Create a new column that corresponds the state abbreviation to the state in State Name column\n",
    "census_pd_2015[\"State Abbreviation\"] = census_pd_2015[\"State Name\"].apply(lambda state_name: state_abbreviations.get(state_name))\n",
    "\n",
    "census_pd_2015 = census_pd_2015[\n",
    "    [\n",
    "        \"State Code\",\n",
    "        \"State Name\",\n",
    "        \"State Abbreviation\",\n",
    "        \"Population\",\n",
    "        \"Median Age\",\n",
    "        \"Household Income\",\n",
    "        \"Per Capita Income\",\n",
    "        \"Poverty Count\",\n",
    "        \"Poverty Rate\",\n",
    "        \"Average Value of Owner-Occupied Home\"\n",
    "    ]\n",
    "]\n",
    "\n",
    "\n",
    "census_data_merged = pd.merge(merged_data,census_pd_2015,on=['State Abbreviation'])\n",
    "census_data_merged.head()\n"
   ]
  },
  {
   "cell_type": "code",
   "execution_count": null,
   "metadata": {},
   "outputs": [
    {
     "data": {
      "text/html": [
       "<div>\n",
       "<style scoped>\n",
       "    .dataframe tbody tr th:only-of-type {\n",
       "        vertical-align: middle;\n",
       "    }\n",
       "\n",
       "    .dataframe tbody tr th {\n",
       "        vertical-align: top;\n",
       "    }\n",
       "\n",
       "    .dataframe thead th {\n",
       "        text-align: right;\n",
       "    }\n",
       "</style>\n",
       "<table border=\"1\" class=\"dataframe\">\n",
       "  <thead>\n",
       "    <tr style=\"text-align: right;\">\n",
       "      <th></th>\n",
       "      <th>State Abbreviation</th>\n",
       "      <th>Average Value of Owner-Occupied Home 2010</th>\n",
       "      <th>Average Value of Owner-Occupied Home 2015</th>\n",
       "      <th>Average Value of Owner-Occupied Home 2020</th>\n",
       "    </tr>\n",
       "  </thead>\n",
       "  <tbody>\n",
       "    <tr>\n",
       "      <th>0</th>\n",
       "      <td>PA</td>\n",
       "      <td>159300.0</td>\n",
       "      <td>166000.0</td>\n",
       "      <td>187500.0</td>\n",
       "    </tr>\n",
       "    <tr>\n",
       "      <th>1</th>\n",
       "      <td>CA</td>\n",
       "      <td>458500.0</td>\n",
       "      <td>385500.0</td>\n",
       "      <td>538500.0</td>\n",
       "    </tr>\n",
       "    <tr>\n",
       "      <th>2</th>\n",
       "      <td>WV</td>\n",
       "      <td>94500.0</td>\n",
       "      <td>103800.0</td>\n",
       "      <td>123200.0</td>\n",
       "    </tr>\n",
       "    <tr>\n",
       "      <th>3</th>\n",
       "      <td>UT</td>\n",
       "      <td>218100.0</td>\n",
       "      <td>215900.0</td>\n",
       "      <td>305400.0</td>\n",
       "    </tr>\n",
       "    <tr>\n",
       "      <th>4</th>\n",
       "      <td>NY</td>\n",
       "      <td>303900.0</td>\n",
       "      <td>283400.0</td>\n",
       "      <td>325000.0</td>\n",
       "    </tr>\n",
       "  </tbody>\n",
       "</table>\n",
       "</div>"
      ],
      "text/plain": [
       "  State Abbreviation  Average Value of Owner-Occupied Home 2010  \\\n",
       "0                 PA                                   159300.0   \n",
       "1                 CA                                   458500.0   \n",
       "2                 WV                                    94500.0   \n",
       "3                 UT                                   218100.0   \n",
       "4                 NY                                   303900.0   \n",
       "\n",
       "   Average Value of Owner-Occupied Home 2015  \\\n",
       "0                                   166000.0   \n",
       "1                                   385500.0   \n",
       "2                                   103800.0   \n",
       "3                                   215900.0   \n",
       "4                                   283400.0   \n",
       "\n",
       "   Average Value of Owner-Occupied Home 2020  \n",
       "0                                   187500.0  \n",
       "1                                   538500.0  \n",
       "2                                   123200.0  \n",
       "3                                   305400.0  \n",
       "4                                   325000.0  "
      ]
     },
     "execution_count": 144,
     "metadata": {},
     "output_type": "execute_result"
    }
   ],
   "source": [
    "#filter merged data\n",
    "census_data_merged['Average Value of Owner-Occupied Home 2015']=census_data_merged['Average Value of Owner-Occupied Home']\n",
    "census_data_merged = census_data_merged[['State Abbreviation','Average Value of Owner-Occupied Home 2010','Average Value of Owner-Occupied Home 2015','Average Value of Owner-Occupied Home 2020']]\n",
    "census_data_merged.head()"
   ]
  },
  {
   "cell_type": "code",
   "execution_count": null,
   "metadata": {},
   "outputs": [
    {
     "data": {
      "text/plain": [
       "Text(0.5, 1.0, 'Average Value of Owner-Occupied Homes Over Time')"
      ]
     },
     "execution_count": 145,
     "metadata": {},
     "output_type": "execute_result"
    },
    {
     "data": {
      "image/png": "[encoded data removed]",
      "text/plain": [
       "<Figure size 640x480 with 1 Axes>"
      ]
     },
     "metadata": {},
     "output_type": "display_data"
    }
   ],
   "source": [
    "#Create a plot that shows how the average home value has every 5 years changed from 2010 to 2020\n",
    "\n",
    "HomeVal_Avg2010 = census_data_merged['Average Value of Owner-Occupied Home 2010'].mean()\n",
    "HomeVal_Avg2015 = census_data_merged['Average Value of Owner-Occupied Home 2015'].mean()\n",
    "HomeVal_Avg2020 = census_data_merged['Average Value of Owner-Occupied Home 2020'].mean()\n",
    "\n",
    "years = [2010,2015,2020]\n",
    "HomeVal = [HomeVal_Avg2010,HomeVal_Avg2015,HomeVal_Avg2020]\n",
    "\n",
    "plt.bar(years, HomeVal,color=\"blue\", linewidth=1)\n",
    "plt.title(\"Average Value of Owner-Occupied Homes Over Time\")"
   ]
  },
  {
   "cell_type": "code",
   "execution_count": null,
   "metadata": {},
   "outputs": [],
   "source": []
  },
  {
   "cell_type": "code",
   "execution_count": null,
   "metadata": {},
   "outputs": [],
   "source": []
  }
 ],
 "metadata": {
  "kernelspec": {
   "display_name": "PythonData_2023_08",
   "language": "python",
   "name": "python3"
  },
  "language_info": {
   "codemirror_mode": {
    "name": "ipython",
    "version": 3
   },
   "file_extension": ".py",
   "mimetype": "text/x-python",
   "name": "python",
   "nbconvert_exporter": "python",
   "pygments_lexer": "ipython3",
   "version": "3.11.5"
  }
 },
 "nbformat": 4,
 "nbformat_minor": 2
}
